{
 "cells": [
  {
   "cell_type": "markdown",
   "metadata": {},
   "source": [
    "Created by Miguel Pardal B Malaca and Jorge Vieira on October 2021 <br>\n",
    "Copyright 2010 Centro de Física dos Plasmas. All rights reserved."
   ]
  },
  {
   "cell_type": "markdown",
   "metadata": {},
   "source": [
    "# Homework 4"
   ]
  },
  {
   "cell_type": "markdown",
   "metadata": {},
   "source": [
    "In this notebook, we are going to study the propagation of an electromagnetic wave in a magnetised plasma ."
   ]
  },
  {
   "cell_type": "markdown",
   "metadata": {
    "slideshow": {
     "slide_type": "-"
    }
   },
   "source": [
    "In this Simulation the plasma extends from $x=300$ to $x=475$ with a density $n_0$ corresponding to a plasma frequency $\\omega_{p0}$. We launch a laser with a frequency of $\\omega_{uh}/\\sqrt{3}$ moving in the positive x-direction and polarized with an electric field in the y-direction. The laser front is initially at $x=175c/\\omega_{p0}$.\n",
    "\n",
    "Run the next two cells to initialize and run the simulation."
   ]
  },
  {
   "cell_type": "code",
   "execution_count": null,
   "metadata": {
    "scrolled": true
   },
   "outputs": [],
   "source": [
    "import sys  \n",
    "sys.path.insert(0, '../source')\n",
    "import matplotlib.pyplot as plt\n",
    "import numpy as np\n",
    "import em1d\n",
    "import numpy as np\n",
    "\n",
    "# Time step\n",
    "dt = 0.0499\n",
    "tmax = 475.0\n",
    "\n",
    "# Simulation box\n",
    "nx  = 9500\n",
    "box = 475\n",
    "\n",
    "# Diagnostic frequency\n",
    "ndump = 2\n",
    "\n",
    "# Background plasma\n",
    "\n",
    "ppc = 20 # Particles per cell\n",
    "\n",
    "plasmastart=300.0\n",
    "plasmaend=450.0\n",
    "d_prof=em1d.Density( type = \"slab\", start = plasmastart, end = plasmaend)\n",
    "electrons = em1d.Species( \"electrons\", -1.0, ppc, uth=[0.00,0.00,0.00], density = d_prof)\n",
    "\n",
    "Ex_p=[]\n",
    "Ey_p=[]\n",
    "\n",
    "Ex_v=[]\n",
    "Ey_v=[]\n",
    "# Diagnostics\n",
    "def rep( sim ):\n",
    "    if ( sim.n % ndump == 0 ):\n",
    "        # All electric field components\n",
    "        #inside the plasma at x=8000/9500*475=400\n",
    "        Ex_p.append(np.array(sim.emf.Ex)[8000])\n",
    "        Ey_p.append(np.array(sim.emf.Ey)[8000])\n",
    "        #before the plasma at x=3600/9500*475=180\n",
    "        Ex_v.append(np.array(sim.emf.Ex)[3600])\n",
    "        Ey_v.append(np.array(sim.emf.Ey)[3600])\n",
    "        \n",
    "\n",
    "# Initialize simulation data\n",
    "sim = em1d.Simulation( nx, box, dt, species=(electrons), report = rep )\n",
    "\n",
    "# Select open boundary conditions\n",
    "sim.emf.bc_type = \"open\"\n",
    "\n",
    "# Add laser pulse\n",
    "w0 = np.sqrt(1+0.25)/np.sqrt(3) #w_uh/sqrt(3)\n",
    "las=em1d.Laser( start = 175.0, rise=12.5, flat=150, fall=12.5, a0 = 0.001, omega0 = w0, polarization = 0.0 )\n",
    "sim.add_laser(las )\n",
    "\n",
    "\n",
    "B=[0.0, 0.0, 0.5]\n",
    "\n",
    "ext = em1d.ExternalField(B_type = 'uniform', B_0 = B)\n",
    "\n",
    "sim.emf.set_ext_fld( ext )"
   ]
  },
  {
   "cell_type": "code",
   "execution_count": null,
   "metadata": {},
   "outputs": [],
   "source": [
    "sim.run( tmax )"
   ]
  },
  {
   "cell_type": "markdown",
   "metadata": {},
   "source": [
    "Next we plot $E_x(t,x)$ and $E_y(t,x)$ a fixed $x$ before the plasma and after the plasma. \n",
    "\n",
    "**Before progressing, make sure you correctly understand the plot first.**"
   ]
  },
  {
   "cell_type": "code",
   "execution_count": null,
   "metadata": {},
   "outputs": [],
   "source": [
    "#before the plasma\n",
    "fig=plt.figure(figsize=(12,6))\n",
    "plt.rcParams.update({'font.size': 16})\n",
    "\n",
    "plt.plot(np.linspace(0,tmax,len(Ex_v)),Ex_v,label=\"$E_x$\")\n",
    "plt.plot(np.linspace(0,tmax,len(Ex_v)),Ey_v,label=\"$E_y$\")\n",
    "#plt.xlim(200,300)\n",
    "plt.xlabel(\"time $[1/\\omega_p]$\")\n",
    "plt.ylabel(\"$E_x\\; E_y$\")\n",
    "plt.legend()\n",
    "plt.title(\"$E_x(t)$ and $E_y(t)$ at $x=180\\;[c/\\omega_p]$\")\n",
    "plt.grid(ls=\"--\",alpha=0.5)\n",
    "plt.ylim(-0.001*w0*2,2*0.001*w0)"
   ]
  },
  {
   "cell_type": "code",
   "execution_count": null,
   "metadata": {},
   "outputs": [],
   "source": [
    "fig=plt.figure(figsize=(12,6))\n",
    "plt.rcParams.update({'font.size': 16})\n",
    "\n",
    "plt.plot(np.linspace(0,tmax,len(Ex_p)),Ex_p,label=\"Ex\")\n",
    "plt.plot(np.linspace(0,tmax,len(Ex_p)),Ey_p,label=\"Ey\")\n",
    "plt.xlim(225,tmax)\n",
    "plt.xlabel(\"time $[1/\\omega_p]$\")\n",
    "plt.ylabel(\"$E_x\\; E_y$\")\n",
    "plt.title(\"$E_x(t)$ and $E_y(t)$ at $x=400\\;[c/\\omega_p]$\")\n",
    "plt.legend()\n",
    "plt.grid(ls=\"--\",alpha=0.5)\n",
    "plt.ylim(-0.001*w0*2,0.001*w0*2)"
   ]
  },
  {
   "cell_type": "markdown",
   "metadata": {},
   "source": [
    "Finally, we look at the polarization of the electric field by plotting with dots the electric field in different positions in the $E_y$ vs. $E_z$ plane. The different colors represent the electric field at three different positions: before the plasma, $x=180$ (blue); inside the plasma, $x=400$ (orange)."
   ]
  },
  {
   "cell_type": "code",
   "execution_count": null,
   "metadata": {},
   "outputs": [],
   "source": [
    "#inside the plasma\n",
    "plt.figure(1,figsize=(8,6))\n",
    "ax=plt.gca()\n",
    "ax.set_aspect(\"equal\")\n",
    "ax.scatter(Ex_v,Ey_v,s=2,label=\"$(E_x,E_y)$ at $x=180\\;[c/\\omega_p]$\",alpha=0.6)\n",
    "ax.scatter(Ex_p,Ey_p,s=2,label=\"$(E_x,E_y)$ at $x=400\\;[c/\\omega_p]$\",alpha=0.6)\n",
    "ax.set_xlim(-2*w0*0.001,2*w0*0.001)\n",
    "ax.set_ylim(-2*w0*0.001,2*w0*0.001)\n",
    "ax.set_xlabel(\"$E_x$\")\n",
    "ax.set_ylabel(\"$E_y$\")\n",
    "ax.grid(ls=\"--\",alpha=0.5)\n",
    "ax.legend()"
   ]
  },
  {
   "cell_type": "code",
   "execution_count": null,
   "metadata": {},
   "outputs": [],
   "source": []
  }
 ],
 "metadata": {
  "kernelspec": {
   "display_name": "Python 3",
   "language": "python",
   "name": "python3"
  },
  "language_info": {
   "codemirror_mode": {
    "name": "ipython",
    "version": 3
   },
   "file_extension": ".py",
   "mimetype": "text/x-python",
   "name": "python",
   "nbconvert_exporter": "python",
   "pygments_lexer": "ipython3",
   "version": "3.9.1"
  }
 },
 "nbformat": 4,
 "nbformat_minor": 2
}
