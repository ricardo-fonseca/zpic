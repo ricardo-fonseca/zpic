{
 "cells": [
  {
   "cell_type": "markdown",
   "metadata": {},
   "source": [
    "# Electrostatic Two-Stream instability\n",
    "\n",
    "In this more advanced example, we show how to create a movie of the particles phasespace using direct access to the simulation data. The initialization of the simulation is done the normal way:"
   ]
  },
  {
   "cell_type": "code",
   "execution_count": null,
   "metadata": {},
   "outputs": [],
   "source": [
    "import sys  \n",
    "sys.path.insert(0, '../source')\n",
    "import es1d\n",
    "\n",
    "import numpy as np\n",
    "\n",
    "nx = 120\n",
    "box = 4 * np.pi\n",
    "dt = 0.1\n",
    "tmax = 50.0\n",
    "\n",
    "ppc = 500\n",
    "vfl = 0.1\n",
    "vth = 0.001\n",
    "\n",
    "right = es1d.Species( \"right\", -1.0, ppc, vfl = vfl, vth = vth )\n",
    "\n",
    "vfl = -vfl\n",
    "left  = es1d.Species( \"left\", -1.0, ppc, vfl = vfl, vth = vth )\n",
    "\n",
    "# Initialize the simulation without diagnostics\n",
    "sim = es1d.Simulation( nx, box, dt, species = [right,left] )"
   ]
  },
  {
   "cell_type": "markdown",
   "metadata": {},
   "source": [
    "Instead of calling the `run` method as usual, we chose to call the `iter` method instead, that advances the simulation 1 time step. This is done inside an `animate` function that is responsible for updating the movie frames.\n",
    "\n",
    "To lower the overall frame count and speed up things, we don't create a frame for every iteration, and automatically skip a few iterations based on the movie parameters.\n",
    "\n",
    "Note that for this particular example, the time is mostly spent generating the animation, the simulation time is almost negligible."
   ]
  },
  {
   "cell_type": "code",
   "execution_count": null,
   "metadata": {},
   "outputs": [],
   "source": [
    "import matplotlib.pyplot as plt\n",
    "\n",
    "from matplotlib import animation\n",
    "from IPython.display import display\n",
    "import ipywidgets\n",
    "\n",
    "# Movie parameters\n",
    "nframes = 200\n",
    "tmax = 150.0\n",
    "fps = 16\n",
    "\n",
    "# Create progress bar\n",
    "bar   = ipywidgets.FloatProgress( min = 0, max = 200 )\n",
    "label = ipywidgets.HTML()\n",
    "prog  = ipywidgets.VBox(children=[label, bar])\n",
    "display(prog)\n",
    "\n",
    "# Create plot\n",
    "x = lambda s : (s.particles['ix'] + s.particles['x']) * s.dx\n",
    "\n",
    "fig, ax = plt.subplots()\n",
    "\n",
    "plt.rc('font', size=12)   \n",
    "fig.set_size_inches( (10.66,6.0) )\n",
    "\n",
    "(v1,) = ax.plot([], [],  '.', ms=1,alpha=0.3, label = \"Left\")\n",
    "(v2,) = ax.plot([], [], '.', ms=1,alpha=0.3, label = \"Right\")\n",
    "ax.set_xlabel(\"x\")\n",
    "ax.set_ylabel(\"v\")\n",
    "ax.set_title(\"v-x phasespace\\nt = {:.1f}\".format(sim.t))\n",
    "ax.grid(True)\n",
    "\n",
    "ax.set_xlim( (0,box ))\n",
    "ax.set_ylim( (-0.4, 0.4) )\n",
    "\n",
    "# Function to create each movie frame\n",
    "skip  = np.int32(np.ceil((tmax / dt ) / (nframes-1) ))\n",
    "\n",
    "def animate(i):\n",
    "    label.value = \"Generating frame {:d}/200 ...\".format(i+1)\n",
    "    bar.value = i\n",
    "    \n",
    "    if ( i > 0 ):\n",
    "        for j in range(skip):\n",
    "            sim.iter()\n",
    "    \n",
    "    v1.set_xdata(x(left))\n",
    "    v1.set_ydata(left.particles['vx'])\n",
    "\n",
    "    v2.set_xdata(x(right))\n",
    "    v2.set_ydata(right.particles['vx'])\n",
    "\n",
    "    ax.set_title(\"v-x phasespace\\nt = {:.1f}\".format(sim.t))\n",
    "\n",
    "    return (v1,v2)\n",
    "\n",
    "# Create the movie\n",
    "anim = animation.FuncAnimation( fig, animate, frames = nframes, repeat = False, blit = True, interval = 1000.0/fps )\n",
    "movie = ipywidgets.HTML(anim.to_html5_video())\n",
    "\n",
    "# Show the completed movie\n",
    "label.value = \"Done!\"\n",
    "bar.bar_style = \"success\"\n",
    "display(movie)"
   ]
  },
  {
   "cell_type": "code",
   "execution_count": null,
   "metadata": {},
   "outputs": [],
   "source": []
  }
 ],
 "metadata": {
  "kernelspec": {
   "display_name": "Python 3",
   "language": "python",
   "name": "python3"
  },
  "language_info": {
   "codemirror_mode": {
    "name": "ipython",
    "version": 3
   },
   "file_extension": ".py",
   "mimetype": "text/x-python",
   "name": "python",
   "nbconvert_exporter": "python",
   "pygments_lexer": "ipython3",
   "version": "3.9.1"
  }
 },
 "nbformat": 4,
 "nbformat_minor": 2
}
