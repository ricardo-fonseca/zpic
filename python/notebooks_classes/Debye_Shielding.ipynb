{
 "cells": [
  {
   "cell_type": "markdown",
   "metadata": {},
   "source": [
    "# Debye Shielding"
   ]
  },
  {
   "cell_type": "markdown",
   "metadata": {},
   "source": [
    "## Theory\n",
    "The Debye Shielding is a fundamental property of a plasma. This property concerns the ability of a plasma to shield electric potentials applied to it.\n",
    "\n",
    "If for example, a positive electric charge is placed inside a plasma, electrons/protons will rapidly drift towards/away from that charge. If the plasma temperature is 0, the amount of charge surrounding the initial charge would make the initial electric potential to be shielded at all places.\n",
    "\n",
    "However, if the plasma has a certain temperature, electrons can get out of potentials that are of the order of their thermal energy, and the charge does not perfectly shield the initial potential for all distances, but only for distances longer than what is called the Debye Length.\n",
    "\n",
    "In Chen [1] a complete derivation of the formula for the Debye Length is given in chapter one."
   ]
  },
  {
   "cell_type": "markdown",
   "metadata": {},
   "source": [
    "$\\lambda_D=\\left(\\frac{\\epsilon_0KT_e}{ne^2}\\right)$"
   ]
  },
  {
   "cell_type": "markdown",
   "metadata": {},
   "source": [
    "## Setup\n",
    "\n",
    "In order to study this property we will study a setup with an external charge distribution (analogous to a cylinder) in a 2D plasma. Inside the cylinder the electric field is linear, and outside it decays with 1/r. \n",
    "\n",
    "A lineout in the x direction is shown in the picture. The prediction is that negative charge will accumulate near the external charge in order to shield the rest of the plasma. The decay will be regulated by the Debye length.\n",
    "\n",
    "<img src=\"deb-image.png\" width=\"800\">"
   ]
  },
  {
   "cell_type": "markdown",
   "metadata": {},
   "source": [
    "### Low Temperature ($\\lambda_D = 1$)"
   ]
  },
  {
   "cell_type": "code",
   "execution_count": null,
   "metadata": {},
   "outputs": [],
   "source": [
    "import em2d\n",
    "import numpy\n",
    "from math import sqrt,atan2,cos,sin\n",
    "import numpy as np\n",
    "import matplotlib.pylab as pl\n",
    "import matplotlib.pyplot as plt\n",
    "\n",
    "# Simulation time \n",
    "tmax = 10\n",
    "\n",
    "# Number of cells\n",
    "nx  = [256,256]\n",
    "\n",
    "# Simulation box size\n",
    "box = [12,12]\n",
    "\n",
    "# Time step  Courant Condition: dt < 1 / ( 1/dx^2 + 1/dy^2 )    \n",
    "dt = 0.03 \n",
    "\n",
    "## Background plasma\n",
    "\n",
    "# Particles per cell\n",
    "ppc = [3,3]\n",
    "\n",
    "dens=em2d.Density( type = \"uniform\")\n",
    "\n",
    "#Density of the initial plasma surrounding the charged cylinder\n",
    "#In this notebook we select the density to be 0.2 so that kT/n ~ 1 without the need \n",
    "#of relativistic electron velocities (n=1 requires velocities of c so the Debye length is 1)\n",
    "\n",
    "dens.n=0.2\n",
    "\n",
    "# Use a step density profile\n",
    "electrons = em2d.Species( \"electrons\", -1, ppc,\n",
    "                           density = dens,ufl=[0.0,0,0],uth=[0.1,0.1,0.1])\n",
    "\n",
    "# Initialize simulation\n",
    "sim = em2d.Simulation( nx, box, dt, species = (electrons) )\n",
    "\n",
    "#Radius of the cylinder \n",
    "a=0.2 \n",
    "\n",
    "#Charge density inside the cylinder (stationary charge)\n",
    "n_inside=2.0\n",
    "\n",
    "#Electric Field magnitude\n",
    "def mod_r(r):\n",
    "    if r<a:\n",
    "        return n_inside/2.*r\n",
    "    else:\n",
    "        return n_inside/2*a**2/r\n",
    "    \n",
    "#No external magnetic field\n",
    "def ext_B1(ix,iy,dx,dy):\n",
    "    return [0.0,0.0,0.0]\n",
    "\n",
    "#Centering the electric field in the center of the box\n",
    "def ext_E1(ix,dx,iy,dy):\n",
    "    x0 = 6.0\n",
    "    y0 = 6.0\n",
    "    \n",
    "    x = ix*dx       - x0;\n",
    "    y = (iy+0.5)*dy - y0;\n",
    "\n",
    "    r2 = x*x+y*y;\n",
    "    bx = -y/r2;\n",
    "\n",
    "    x = (ix+0.5)*dx - x0;\n",
    "    y = iy*dy       - y0;\n",
    "\n",
    "    r2 = x*x+y*y;\n",
    "    by = x/r2;\n",
    "    phi=atan2(x,y)\n",
    "    return [mod_r(r2)*sin(phi),mod_r(r2)*cos(phi),0]\n",
    "\n",
    "ext = em2d.ExternalField(B_type = 'custom', B_custom = ext_B1,E_type = 'custom', E_custom = ext_E1)\n",
    "sim.emf.set_ext_fld( ext )\n",
    "ext_buf=np.copy(sim.emf.Ex_part)\n",
    "\n",
    "sim.iter()\n"
   ]
  },
  {
   "cell_type": "markdown",
   "metadata": {},
   "source": [
    "### Let's check the initial electric field."
   ]
  },
  {
   "cell_type": "code",
   "execution_count": null,
   "metadata": {},
   "outputs": [],
   "source": [
    "plt.rcParams.update({'font.size': 22})\n",
    "simrange = [[0,sim.box[0]],[0,sim.box[1]]]\n",
    "fig=pl.figure(figsize=(16, 9), dpi=80)\n",
    "pl.imshow( sim.emf.Ex_part, interpolation = 'bilinear', origin = 'lower',\n",
    "          extent = ( simrange[0][0], simrange[0][1], simrange[1][0], simrange[1][1] ),\n",
    "          aspect = 'auto', cmap = 'seismic')\n",
    "\n",
    "pl.colorbar().set_label('$E_1$')\n",
    "pl.xlabel(\"$x_1$\")\n",
    "pl.ylabel(\"$x_2$\")\n",
    "pl.title(\"Initial Electric Field\\nt = {:g}\".format(sim.t))\n",
    "pl.show()"
   ]
  },
  {
   "cell_type": "markdown",
   "metadata": {},
   "source": [
    "### Now it's time to make the system evolve in time."
   ]
  },
  {
   "cell_type": "code",
   "execution_count": null,
   "metadata": {},
   "outputs": [],
   "source": [
    "%matplotlib inline\n",
    "import matplotlib.pyplot as plt\n",
    "\n",
    "from matplotlib import animation\n",
    "from IPython.display import display\n",
    "from IPython.display import HTML\n",
    "import ipywidgets\n",
    "\n",
    "# Movie parameters\n",
    "nframes = 350\n",
    "tmax = 35\n",
    "fps = 16\n",
    "\n",
    "# Create progress bar\n",
    "bar   = ipywidgets.FloatProgress( min = 0, max = nframes )\n",
    "label = ipywidgets.HTML()\n",
    "prog  = ipywidgets.VBox(children=[label, bar])\n",
    "display(prog)\n",
    "\n",
    "# Create plot\n",
    "x = lambda s : (s.particles['ix'] + s.particles['x']) * s.dx[0]\n",
    "y = lambda s : (s.particles['iy'] + s.particles['y']) * s.dx[1]\n",
    "fig, ax = plt.subplots()\n",
    "\n",
    "plt.rc('font', size=12)   \n",
    "fig.set_size_inches( (10.66,6.0) )\n",
    "\n",
    "(p1,) = ax.plot([], [],  '.', ms=1,alpha=0.5,c=\"k\")\n",
    "ax.set_xlabel(\"x1\")\n",
    "ax.set_ylabel(\"x2\")\n",
    "ax.set_title(\"x1-x2 phasespace\\nt = {:.1f}\".format(sim.t))\n",
    "ax.grid(True)\n",
    "ax.set_aspect(\"equal\")\n",
    "ax.set_xlim( (0+2,box[0]-2 ))\n",
    "ax.set_ylim( (0+2, box[1]-2) )\n",
    "\n",
    "# Function to create each movie frame\n",
    "skip  = np.int32(np.ceil((tmax / dt ) / (nframes-1) ))\n",
    "\n",
    "def animate(i):\n",
    "    label.value = \"Generating frame {:d}/{:d} ...\".format(i+1,nframes)\n",
    "    bar.value = i\n",
    "    \n",
    "    if ( i > 0 ):\n",
    "        for j in range(skip):\n",
    "            sim.iter()\n",
    "    \n",
    "    p1.set_xdata(x(electrons)[::10])\n",
    "    p1.set_ydata(y(electrons)[::10])\n",
    "\n",
    "    ax.set_title(\"x1-x2 phasespace\\nt = {:.1f}\".format(sim.t))\n",
    "\n",
    "    return (p1,)\n",
    "\n",
    "# Create the movie\n",
    "anim = animation.FuncAnimation( fig, animate, frames = nframes, repeat = False, blit = True, interval = 1000.0/fps )\n",
    "#movie = ipywidgets.HTML(anim.to_html5_video())\n",
    "\n",
    "# Show the completed movie\n",
    "label.value = \"Done!\"\n",
    "bar.bar_style = \"success\"\n",
    "#\n",
    "plt.close()\n",
    "HTML(anim.to_html5_video()) "
   ]
  },
  {
   "cell_type": "markdown",
   "metadata": {},
   "source": [
    "and run it for a little longer..."
   ]
  },
  {
   "cell_type": "code",
   "execution_count": null,
   "metadata": {},
   "outputs": [],
   "source": [
    "while sim.t < 100:\n",
    "    print('n = {:d}, t = {:g}'.format(sim.n,sim.t), end = '\\r')\n",
    "    sim.iter()"
   ]
  },
  {
   "cell_type": "code",
   "execution_count": null,
   "metadata": {},
   "outputs": [],
   "source": [
    "fig, axs = plt.subplots(1, 2, constrained_layout=True,figsize=(9,4.5))\n",
    "\n",
    "\n",
    "simrange=[[-6,6],[-6,6]]\n",
    "ax1 = axs.flat[0]#plt.subplot2grid((2, 2), (0, 0),colspan=1)\n",
    "result1=ax1.imshow( ext_buf, interpolation = 'bilinear', origin = 'lower',\n",
    "          extent = ( simrange[0][0], simrange[0][1], simrange[1][0], simrange[1][1] ),\n",
    "          aspect = 'auto', cmap = 'seismic')\n",
    "#pl.colorbar(result1,shrink=1,cmap='seismic',ax=ax1,label=\"$E_2~(c^2m_e/e\\lambda_D)$\")\n",
    "#pl.colorbar().set_label('$E_2$')\n",
    "ax1.set_xlabel(\"$x_1~(\\lambda_D)$\")\n",
    "ax1.set_ylabel(\"$x_2~(\\lambda_D)$\")\n",
    "ax1.set_title(\"Field $E_x$\\nt=0.00 $(\\lambda_D/c)$\")\n",
    "#pl.show()\n",
    "\n",
    "#Second Plot (middle) - Total Field\n",
    "ax2 = axs.flat[1]#plt.subplot2grid((2, 2), (0, 1),colspan=1)\n",
    "\n",
    "\n",
    "result2=ax2.imshow( sim.emf.Ex_part, interpolation = 'bilinear', origin = 'lower',\n",
    "          extent = ( simrange[0][0], simrange[0][1], simrange[1][0], simrange[1][1] ),\n",
    "          aspect = 'auto', cmap = 'seismic')\n",
    "\n",
    "\n",
    "ax2.set_xlabel(\"$x_1~(\\lambda_D)$\")\n",
    "ax2.set_ylabel(\"$x_2~(\\lambda_D)$\")\n",
    "ax2.set_title(\"Field $E_x$\\nt = {:g} $(\\lambda_D/c)$\".format(sim.t))\n",
    "fig.colorbar(result1, ax=axs[:], shrink=0.6, location='bottom',label=\"$E_2~(c^2m_e/e\\lambda_D)$\")\n",
    "\n",
    "#Third plot (down) - Lineout\n",
    "fig, ax3 = plt.subplots(1, 1, constrained_layout=True,figsize=(9,5.5))\n",
    "ax3.plot(np.arange(0,nx[1])*box[1]/nx[1]-6,ext_buf[127],color='black',linewidth=3,label='Without Shielding(t=0)')\n",
    "ax3.plot(np.arange(0,nx[1])*box[1]/nx[1]-6,sim.emf.Ex_part[127],color='gray',linewidth=3,label='With Shielding')\n",
    "\n",
    "\n",
    "ax3.set_xlabel(\"$x_2~(\\lambda_D)$\")\n",
    "ax3.set_ylabel(\"$E_2~\\frac{c^2m_e}{c\\lambda_D}$\",labelpad=0)\n",
    "ax3.set_title(\"Total Field ($x_1=0$) \\nt = {:g} $(\\lambda_D/c)$\".format(sim.t))\n",
    "ax3.legend()\n",
    "\n",
    "#plt.tight_layout()"
   ]
  },
  {
   "cell_type": "code",
   "execution_count": null,
   "metadata": {},
   "outputs": [],
   "source": [
    "#Third Plot (upper right) - Plasma Density\n",
    "\n",
    "fig, ax3 = plt.subplots(1, 1, constrained_layout=True,figsize=(18,12))\n",
    "a=ax3.imshow( np.abs(electrons.charge()), interpolation = 'bilinear', origin = 'lower',\n",
    "          extent = ( simrange[0][0], simrange[0][1], simrange[1][0], simrange[1][1] ),\n",
    "          aspect = 'auto', cmap = 'jet')\n",
    "fig.colorbar(a, ax=ax3, shrink=0.6, location='right',label=\"$n_0$\")\n",
    "ax3.set_xlabel(\"$x_1$\")\n",
    "ax3.set_ylabel(\"$x_2$\")\n",
    "ax3.set_title(\"Plasma Density\\nt = {:g}\".format(sim.t))\n",
    "ax3.set_aspect(\"equal\")\n",
    "pl.show()"
   ]
  },
  {
   "cell_type": "markdown",
   "metadata": {},
   "source": [
    "### Higher Temperature ($\\lambda_D = \\sqrt{3}$, for example)"
   ]
  },
  {
   "cell_type": "markdown",
   "metadata": {},
   "source": [
    "In order to get a higher temperature, you must copy the cells above and run a new simulation. In order to get a different Debye length, uth or n_inside should be changed. Can you see the difference between the final electron distributions? What should happen if $\\lambda_D>>6=L$ (length of the box)? Is it still a plasma? Test and find out!"
   ]
  },
  {
   "cell_type": "code",
   "execution_count": null,
   "metadata": {},
   "outputs": [],
   "source": []
  }
 ],
 "metadata": {
  "kernelspec": {
   "display_name": "Python 3",
   "language": "python",
   "name": "python3"
  },
  "language_info": {
   "codemirror_mode": {
    "name": "ipython",
    "version": 3
   },
   "file_extension": ".py",
   "mimetype": "text/x-python",
   "name": "python",
   "nbconvert_exporter": "python",
   "pygments_lexer": "ipython3",
   "version": "3.9.1"
  }
 },
 "nbformat": 4,
 "nbformat_minor": 2
}
