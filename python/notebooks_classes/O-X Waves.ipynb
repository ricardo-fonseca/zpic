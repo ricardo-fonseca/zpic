{
 "cells": [
  {
   "cell_type": "markdown",
   "metadata": {},
   "source": [
    "# Waves in magnetized Plasmas: O-waves and X-waves"
   ]
  },
  {
   "cell_type": "markdown",
   "metadata": {},
   "source": [
    "To study electromagnetic waves in a magnetized plasma, in particular polarized either along the applied magnetic fields (O-waves) or perpendicular to it (X-waves) we initialize the simulation with a uniform thermal plasma, effectively injecting waves of all possible wavelengths into the simulation.\n",
    "\n",
    "The external magnetic field is applied along the `z` direction, and can be controlled through the `Bz0` variable:"
   ]
  },
  {
   "cell_type": "code",
   "execution_count": null,
   "metadata": {},
   "outputs": [],
   "source": [
    "import sys  \n",
    "sys.path.insert(0, '../source')\n",
    "import em1ds as zpic\n",
    "\n",
    "electrons = zpic.Species( \"electrons\", -1.0, ppc = 64, uth=[0.005,0.005,0.005])\n",
    "\n",
    "sim = zpic.Simulation( nx = 1000, box = 100.0, dt = 0.05, species = electrons )\n",
    "\n",
    "#Bz0 = 0.5\n",
    "Bz0 = 1.0\n",
    "#Bz0 = 4.0\n",
    "ext = zpic.ExternalField(B_type = 'uniform',B_0= [0.0, 0.0, Bz0])\n",
    "\n",
    "sim.emf.set_ext_fld( ext )"
   ]
  },
  {
   "cell_type": "markdown",
   "metadata": {},
   "source": [
    "We run the simulation up to a fixed number of iterations, controlled by the variable `niter`, storing the value of the EM fields $E_y$ (X-wave) and $E_z$ (O-wave) at every timestep so we can analyze them later:"
   ]
  },
  {
   "cell_type": "code",
   "execution_count": null,
   "metadata": {},
   "outputs": [],
   "source": [
    "import numpy as np\n",
    "\n",
    "niter = 1000\n",
    "\n",
    "Ey_t = np.zeros((niter,sim.nx))\n",
    "Ez_t = np.zeros((niter,sim.nx))\n",
    "\n",
    "print(\"\\nRunning simulation up to t = {:g} ...\".format(niter * sim.dt))\n",
    "while sim.n < niter:\n",
    "    print('n = {:d}, t = {:g}'.format(sim.n,sim.t), end = '\\r')\n",
    "    Ey_t[sim.n,:] = sim.emf.Ey\n",
    "    Ez_t[sim.n,:] = sim.emf.Ez\n",
    "    sim.iter()\n",
    "\n",
    "print(\"\\nDone.\")"
   ]
  },
  {
   "cell_type": "markdown",
   "metadata": {},
   "source": [
    "## EM Waves\n",
    "\n",
    "As discussed above, the simulation was initialized with a broad spectrum of waves through the thermal noise of the plasma. We can see the noisy fields in the plot below:"
   ]
  },
  {
   "cell_type": "code",
   "execution_count": null,
   "metadata": {},
   "outputs": [],
   "source": [
    "import matplotlib.pyplot as plt\n",
    "\n",
    "iter = sim.n//2\n",
    "plt.plot(np.linspace(0, sim.box, num = sim.nx),Ez_t[iter,:], label = \"$E_z$\")\n",
    "plt.plot(np.linspace(0, sim.box, num = sim.nx),Ey_t[iter,:], label = \"$E_y$\")\n",
    "plt.grid(True)\n",
    "plt.xlabel(\"$x_1$ [$c/\\omega_n$]\")\n",
    "plt.ylabel(\"$E$ field []\")\n",
    "plt.title(\"$E_z$, $E_y$, t = {:g}\".format( iter * sim.dt))\n",
    "plt.legend()\n",
    "plt.show()"
   ]
  },
  {
   "cell_type": "markdown",
   "metadata": {},
   "source": [
    "## O-Wave\n",
    "\n",
    "To analyze the dispersion relation of the O-waves we use a 2D (Fast) Fourier transform of $E_z(x,t)$ field values that we stored during the simulation. The plot below shows the obtained power spectrum, alongside with the theoretical prediction for the dispersion relation (in simulation units):\n",
    "\n",
    "$\\omega = \\sqrt{(1 + k^2)}$\n",
    "\n",
    "Since the dataset is not periodic along $t$ we apply a windowing technique (Hanning) to the dataset to lower the background spectrum, and make the dispersion relation more visible."
   ]
  },
  {
   "cell_type": "code",
   "execution_count": null,
   "metadata": {},
   "outputs": [],
   "source": [
    "import matplotlib.pyplot as plt\n",
    "import matplotlib.colors as colors\n",
    "\n",
    "# (omega,k) power spectrum\n",
    "\n",
    "win = np.hanning(niter)\n",
    "for i in range(sim.nx):\n",
    "    Ez_t[:,i] *= win\n",
    "\n",
    "sp = np.abs(np.fft.fft2(Ez_t))**2\n",
    "sp = np.fft.fftshift( sp )\n",
    "\n",
    "k_max = np.pi / sim.dx\n",
    "omega_max = np.pi / sim.dt\n",
    "\n",
    "plt.imshow( sp, origin = 'lower', norm=colors.LogNorm(vmin = 1e-4, vmax = 0.1),\n",
    "           extent = ( -k_max, k_max, -omega_max, omega_max ),\n",
    "           aspect = 'auto', cmap = 'gray')\n",
    "\n",
    "plt.colorbar().set_label('$|FFT(E_z)|^2$')\n",
    "\n",
    "# Theoretical prediction\n",
    "k = np.linspace(-k_max, k_max, num = 512)\n",
    "plt.plot( k, np.sqrt( 1 + k**2), label = \"theoretical\", ls = \"--\" )\n",
    "\n",
    "plt.ylim(0,12)\n",
    "plt.xlim(0,12)\n",
    "plt.xlabel(\"$k$ [$\\omega_n/c$]\")\n",
    "plt.ylabel(\"$\\omega$ [$\\omega_n$]\")\n",
    "plt.title(\"O-Wave dispersion relation\")\n",
    "plt.legend()\n",
    "plt.show()\n"
   ]
  },
  {
   "cell_type": "markdown",
   "metadata": {},
   "source": [
    "## X-wave\n",
    "\n",
    "To analyze the dispersion relation of the O-waves we use a 2D (Fast) Fourier transform of $E_y(x,t)$ field values that we stored during the simulation. The theoretical prediction has 2 branches:\n",
    "\n",
    "$\\omega = 0$\n",
    "\n",
    "Since the dataset is not periodic along $t$ we apply a windowing technique (Hanning) to the dataset to lower the background spectrum, and make the dispersion relation more visible."
   ]
  },
  {
   "cell_type": "code",
   "execution_count": null,
   "metadata": {},
   "outputs": [],
   "source": [
    "import matplotlib.pyplot as plt\n",
    "import matplotlib.colors as colors\n",
    "\n",
    "win = np.hanning(niter)\n",
    "for i in range(sim.nx):\n",
    "    Ey_t[:,i] *= win\n",
    "\n",
    "\n",
    "k_max     = np.pi / sim.dx\n",
    "omega_max = np.pi / sim.dt\n",
    "sp = np.abs( np.fft.fft2(Ey_t))**2 \n",
    "sp = np.fft.fftshift( sp )\n",
    "\n",
    "plt.imshow( sp, origin = 'lower', norm=colors.LogNorm(vmin = 1e-4, vmax = 0.1),\n",
    "           extent = ( -k_max, k_max, -omega_max, omega_max ),\n",
    "           aspect = 'auto', cmap = 'gray')\n",
    "plt.colorbar().set_label('$|FFT(E_y)|^2$')\n",
    "\n",
    "\n",
    "k = np.linspace(-k_max, k_max, num = 512)\n",
    "wa=np.sqrt((k**2+Bz0**2+2-np.sqrt(k**4-2*k**2*Bz0**2+Bz0**4+4*Bz0**2))/2)\n",
    "wb=np.sqrt((k**2+Bz0**2+2+np.sqrt(k**4-2*k**2*Bz0**2+Bz0**4+4*Bz0**2))/2)\n",
    "\n",
    "plt.plot( k,wb, label = 'theoretical $\\omega_+$', color = 'r', ls = \"--\" )\n",
    "plt.plot( k,wa, label = 'theoretical $\\omega_-$', color = 'b', ls = \"--\" )\n",
    "\n",
    "plt.xlabel(\"$k$ [$\\omega_n/c$]\")\n",
    "plt.ylabel(\"$\\omega$ [$\\omega_n$]\")\n",
    "plt.title(\"X-wave dispersion relation\")\n",
    "plt.legend()\n",
    "\n",
    "plt.ylim(0,12)\n",
    "plt.xlim(0,12)\n",
    "plt.show()\n"
   ]
  },
  {
   "cell_type": "code",
   "execution_count": null,
   "metadata": {},
   "outputs": [],
   "source": []
  }
 ],
 "metadata": {
  "kernelspec": {
   "display_name": "Python 3",
   "language": "python",
   "name": "python3"
  },
  "language_info": {
   "codemirror_mode": {
    "name": "ipython",
    "version": 3
   },
   "file_extension": ".py",
   "mimetype": "text/x-python",
   "name": "python",
   "nbconvert_exporter": "python",
   "pygments_lexer": "ipython3",
   "version": "3.9.1"
  }
 },
 "nbformat": 4,
 "nbformat_minor": 2
}
