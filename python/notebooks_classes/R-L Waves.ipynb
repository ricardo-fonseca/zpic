{
 "cells": [
  {
   "cell_type": "markdown",
   "metadata": {},
   "source": [
    "# Waves in magnetized Plasmas: R-waves and L-Waves"
   ]
  },
  {
   "cell_type": "markdown",
   "metadata": {},
   "source": [
    "To study electromagnetic waves in a magnetized plasma, in particular waves propagating along the applied magnetic field, we initialize the simulation with a uniform thermal plasma, effectively injecting waves of all possible wavelengths into the simulation.\n",
    "\n",
    "The external magnetic field is applied along the `x` direction, and can be controlled through the `Bx0` variable:"
   ]
  },
  {
   "cell_type": "code",
   "execution_count": null,
   "metadata": {},
   "outputs": [],
   "source": [
    "import sys  \n",
    "sys.path.insert(0, '../source')\n",
    "import em1ds as zpic\n",
    "\n",
    "electrons = zpic.Species( \"electrons\", -1.0, ppc = 64, uth=[0.005,0.005,0.005])\n",
    "\n",
    "sim = zpic.Simulation( nx = 1000, box = 100.0, dt = 0.0999, species = electrons )\n",
    "sim.emf.solver_type = 'PSATD'\n",
    "\n",
    "#Bx0 = 0.5\n",
    "#Bx0 = 1.0\n",
    "Bx0 = 2.0\n",
    "\n",
    "\n",
    "\n",
    "ext = zpic.ExternalField(B_type = 'uniform',B_0= [Bx0, 0.0, 0.0])\n",
    "\n",
    "sim.emf.set_ext_fld( ext )"
   ]
  },
  {
   "cell_type": "markdown",
   "metadata": {},
   "source": [
    "We run the simulation up to a fixed number of iterations, controlled by the variable `niter`, storing the value of the EM fields $E_y$ and $E_z$ at every timestep so we can analyze them later:"
   ]
  },
  {
   "cell_type": "code",
   "execution_count": null,
   "metadata": {},
   "outputs": [],
   "source": [
    "import numpy as np\n",
    "\n",
    "niter = 1000\n",
    "\n",
    "Ez_t = np.zeros((niter,sim.nx))\n",
    "\n",
    "tmax = niter * sim.dt\n",
    "\n",
    "print(\"\\nRunning simulation up to t = {:g} ...\".format(tmax))\n",
    "while sim.t <= tmax:\n",
    "    print('n = {:d}, t = {:g}'.format(sim.n,sim.t), end = '\\r')\n",
    "    Ez_t[sim.n,:] = sim.emf.Ez\n",
    "    sim.iter()\n",
    "\n",
    "print(\"\\nDone.\")"
   ]
  },
  {
   "cell_type": "markdown",
   "metadata": {},
   "source": [
    "## EM Waves\n",
    "\n",
    "As discussed above, the simulation was initialized with a broad spectrum of waves through the thermal noise of the plasma. We can see the noisy fields in the plot below:"
   ]
  },
  {
   "cell_type": "code",
   "execution_count": null,
   "metadata": {},
   "outputs": [],
   "source": [
    "import matplotlib.pyplot as plt\n",
    "\n",
    "iter = sim.n//2\n",
    "plt.plot(np.linspace(0, sim.box, num = sim.nx),Ez_t[iter,:], label = \"$E_z$\")\n",
    "plt.grid(True)\n",
    "plt.xlabel(\"$x_1$ [$c/\\omega_n$]\")\n",
    "plt.ylabel(\"$E$ field []\")\n",
    "plt.title(\"$E_z$, t = {:g}\".format( iter * sim.dt))\n",
    "plt.legend()\n",
    "plt.show()"
   ]
  },
  {
   "cell_type": "markdown",
   "metadata": {},
   "source": [
    "## R/L-Waves\n",
    "\n",
    "To analyze the dispersion relation of the R/L-waves we use a 2D (Fast) Fourier transform of $E_z(x,t)$ field values that we stored during the simulation. The plot below shows the obtained power spectrum alongside the theoretical prediction for the L-wave and the two solutions for the R-wave.\n",
    "\n",
    "Since the dataset is not periodic along $t$ we apply a windowing technique (Hanning) to the dataset to lower the background spectrum, and make the dispersion relation more visible."
   ]
  },
  {
   "cell_type": "code",
   "execution_count": null,
   "metadata": {},
   "outputs": [],
   "source": [
    "import matplotlib.pyplot as plt\n",
    "import matplotlib.colors as colors\n",
    "\n",
    "# (omega,k) power spectrum\n",
    "\n",
    "win = np.hanning(niter)\n",
    "for i in range(sim.nx):\n",
    "    Ez_t[:,i] *= win\n",
    "\n",
    "sp = np.abs(np.fft.fft2(Ez_t))**2\n",
    "sp = np.fft.fftshift( sp )\n",
    "\n",
    "k_max = np.pi / sim.dx\n",
    "omega_max = np.pi / sim.dt\n",
    "\n",
    "plt.imshow( sp, origin = 'lower', norm=colors.LogNorm(vmin = 1e-5),\n",
    "           extent = ( -k_max, k_max, -omega_max, omega_max ),\n",
    "           aspect = 'auto', cmap = 'gray')\n",
    "\n",
    "plt.colorbar().set_label('$|FFT(E_z)|^2$')\n",
    "\n",
    "# Theoretical curves\n",
    "wC = Bx0\n",
    "wR = 0.5*(np.sqrt( wC**2 + 4) + wC)\n",
    "wL = 0.5*(np.sqrt( wC**2 + 4) - wC)\n",
    "\n",
    "w = np.linspace(wL, omega_max, num = 512)\n",
    "k = w * np.sqrt( 1.0 - 1.0/(w**2 * (1+wC/w) ) )\n",
    "plt.plot( k, w, label = \"L-wave\", color = 'b' )\n",
    "\n",
    "w = np.linspace(wR + 1e-6, omega_max, num = 512)\n",
    "k = w * np.sqrt( 1.0 - 1.0/(w**2 * (1-wC/w) ) )\n",
    "plt.plot( k, w, label = \"R-wave\", color = 'r')\n",
    "\n",
    "w = np.linspace(1e-6, wC - 1e-6, num = 512)\n",
    "k = w * np.sqrt( 1.0 - 1.0/(w**2 * (1-Bx0/w) ) )\n",
    "plt.plot( k, w, label = \"R-wave\", color = 'r' )\n",
    "\n",
    "\n",
    "plt.ylim(0,12)\n",
    "plt.xlim(0,12)\n",
    "plt.xlabel(\"$k$ [$\\omega_n/c$]\")\n",
    "plt.ylabel(\"$\\omega$ [$\\omega_n$]\")\n",
    "plt.title(\"R/L-waves dispersion relation\")\n",
    "\n",
    "plt.legend()\n",
    "\n",
    "plt.show()\n"
   ]
  },
  {
   "cell_type": "code",
   "execution_count": null,
   "metadata": {},
   "outputs": [],
   "source": []
  }
 ],
 "metadata": {
  "kernelspec": {
   "display_name": "Python 3",
   "language": "python",
   "name": "python3"
  },
  "language_info": {
   "codemirror_mode": {
    "name": "ipython",
    "version": 3
   },
   "file_extension": ".py",
   "mimetype": "text/x-python",
   "name": "python",
   "nbconvert_exporter": "python",
   "pygments_lexer": "ipython3",
   "version": "3.9.1"
  }
 },
 "nbformat": 4,
 "nbformat_minor": 2
}
