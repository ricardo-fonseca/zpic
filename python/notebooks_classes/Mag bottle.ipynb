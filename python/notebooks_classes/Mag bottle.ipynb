{
 "cells": [
  {
   "cell_type": "markdown",
   "metadata": {},
   "source": [
    "## Magnetic Bottle\n",
    "2D simulations of Single Particle Drifts\n",
    "***"
   ]
  },
  {
   "cell_type": "markdown",
   "metadata": {},
   "source": [
    "#### About the simulation"
   ]
  },
  {
   "cell_type": "markdown",
   "metadata": {},
   "source": [
    "We will be using the 2D version of **ZPIC**. With this particle in cell code we are required to initialize a full plasma instead of a single particle. However, we may still track single particles and eliminate collective effects by decreasing the plasma density.\n"
   ]
  },
  {
   "cell_type": "markdown",
   "metadata": {},
   "source": [
    "#### About the phenomenon"
   ]
  },
  {
   "cell_type": "markdown",
   "metadata": {},
   "source": [
    "The magnetic bottle is a confinement machine that works based on the motion of single particles in magnetic fileds with parallel gradients.\n",
    "\n",
    "The configuration is based on the following picture:\n",
    "\n",
    "<img src=\"config.png\"  style=\"width: 500px; float: left;\" />\n",
    "\n",
    "\n",
    "\n"
   ]
  },
  {
   "cell_type": "markdown",
   "metadata": {},
   "source": [
    "Taken from Freidberg, *Plasma Physics and Fusion Energy*.\n",
    "\n",
    "Two coils with current flowing in the same direction create a magnetic field<br>\n",
    "with a maximum just under each coil and a local minimum midway between.\n",
    "\n",
    "In this device, the particle may undergo an harmonic motion due to the restoring<br> force $F_\\parallel=-\\mu\\nabla_\\parallel B$, where $\\mu=\\frac{mv_\\perp^2}{2B}$ is an adiabatic invariant, *i.e.*, it remains constant<br> for a given particle."
   ]
  },
  {
   "cell_type": "markdown",
   "metadata": {},
   "source": [
    "#### The simulation\n",
    "\n",
    "We initialize the simulation with an electron species localized between $4.4<x_1<4.6$ and $0.24<x_2<0.26$.\n",
    "\n",
    "We give it a uniform velocity distribution in the $x_1$ direction, but  a thermal velocity distribution in the $x_2$ direction.\n",
    "In this way, some particles will have a pitch angle small enough to escape the magnetic bottle while others will remain trapped.\n"
   ]
  },
  {
   "cell_type": "code",
   "execution_count": null,
   "metadata": {},
   "outputs": [],
   "source": [
    "import sys  \n",
    "sys.path.insert(0, '../source')\n",
    "\n",
    "# get ZPIC 2D\n",
    "import em2d\n",
    "import numpy as np\n",
    "\n",
    "# Simulation time\n",
    "tmax = 250\n",
    "# Number of cells\n",
    "nx  = [480+128,32]\n",
    "#nx  = [960,64]\n",
    "# Simulation box size\n",
    "box = [18,0.5]\n",
    "\n",
    "#Time step\n",
    "def courant(dx,dy):\n",
    "    return 1/np.sqrt(1/dx**2+1/dy**2)\n",
    "dt = 0.999*courant(box[0]/nx[0],box[1]/nx[1])\n",
    "\n",
    "# Particles per cell\n",
    "ppc = [8,32]\n",
    "\n",
    "def custom_nx(x):\n",
    "    return 1.0 if (x>4.4 and x<4.6)  else 0.0\n",
    "\n",
    "def custom_ny(x):\n",
    "    return 1.0 if (x>0.24 and x<0.26) else 0.0\n",
    "\n",
    "dens = em2d.Density( type = \"custom\", custom_x = custom_nx,custom_y = custom_ny  )\n",
    "# Set up a super low density\n",
    "dens.n=1e-6\n",
    "\n",
    "ufl=0.05\n",
    "#create the species\n",
    "electrons = em2d.Species( \"electrons\", -1, ppc,\n",
    "                           density = dens,ufl=[ufl,0,0],uth=[0,2*ufl,0])\n",
    "\n",
    "# Initialize simulation\n",
    "sim = em2d.Simulation( nx, box, dt, species = (electrons) )\n",
    "\n",
    "electrons.n_sort=0"
   ]
  },
  {
   "cell_type": "markdown",
   "metadata": {},
   "source": [
    "##### External fields\n",
    "\n",
    "We will be using the python package ```loopfield``` to obtain the magnetic field coming from two current loops plasced at the edges of the simulation box.\n",
    "\n",
    "The current loops are placed in such a way that the plasma particles begin their motion in the middle of the bottle"
   ]
  },
  {
   "cell_type": "code",
   "execution_count": null,
   "metadata": {},
   "outputs": [],
   "source": [
    "import loopfield as lf\n",
    "# create empty field with specified units\n",
    "field = lf.Field(length_units = lf.cm,\n",
    "                 current_units = lf.A,\n",
    "                 field_units = lf.uT)\n",
    "\n",
    "position = [9., 0.25, 0.]\n",
    "#position = [9., 0.5, 0.]\n",
    "normal = [1., 0., 0.]\n",
    "radius = 2.6\n",
    "current = 0.4\n",
    "c = lf.Loop(position, normal, radius, current)\n",
    "\n",
    "#position = [0., 0.5, 0.]\n",
    "position = [0., 0.25, 0.]\n",
    "d = lf.Loop(position, normal, radius, current)\n",
    "\n",
    "# add loop to field\n",
    "field.addLoop(c);\n",
    "field.addLoop(d);"
   ]
  },
  {
   "cell_type": "markdown",
   "metadata": {},
   "source": [
    "We pre-calculate the external field in order to save a bit o computing time"
   ]
  },
  {
   "cell_type": "code",
   "execution_count": null,
   "metadata": {},
   "outputs": [],
   "source": [
    "#Pre-caclculate the external fields \n",
    "gc=[[1,2],[1,2]]\n",
    "external_fld=[]\n",
    "for i in range(nx[0]+gc[0][0]+gc[0][1]):\n",
    "    ix=i-1\n",
    "    external_fld_col=[]\n",
    "    for j in range(nx[1]+gc[1][0]+gc[1][1]):\n",
    "        iy=j-1\n",
    "        x = ix*sim.dx[0]       \n",
    "        y = (iy+0.5)*sim.dx[1]\n",
    "        bx=field.evaluate([x,y,0])[0]\n",
    "\n",
    "        x = (ix+0.5)*sim.dx[0]\n",
    "        y = iy*sim.dx[1]      \n",
    "        by,bz=field.evaluate([x,y,0])[1:]\n",
    "        external_fld_col.append([bx,by,bz])        \n",
    "    external_fld.append(external_fld_col)\n",
    "print(\"done calculating ext\")\n",
    "\n",
    "def ext_B(ix,dx,iy,dy):\n",
    "    i = ix+1\n",
    "    j=  iy+1\n",
    "    return external_fld[i][j]\n",
    "\n",
    "ext = em2d.ExternalField(B_type = 'custom', B_custom = ext_B,E_type = 'none')\n",
    "sim.emf.set_ext_fld( ext )"
   ]
  },
  {
   "cell_type": "markdown",
   "metadata": {},
   "source": [
    "Here you can check the longitudinal profile of the magnetic field"
   ]
  },
  {
   "cell_type": "code",
   "execution_count": null,
   "metadata": {},
   "outputs": [],
   "source": [
    "import matplotlib.pyplot as plt\n",
    "fig=plt.figure(figsize=(8, 6))\n",
    "x=np.linspace(0,box[0],nx[0]+gc[0][0]+gc[0][1])\n",
    "plt.plot(x,np.array(external_fld)[:,16,0],)\n",
    "plt.xlabel(\"$x_1\\;[c/\\omega_p]$\")\n",
    "plt.axvline(9,c=\"r\",ls=\"--\")\n",
    "plt.ylabel(\"$B_1$\")\n",
    "plt.axhline(np.max(np.array(external_fld)[:,16,0]))\n",
    "plt.axhline(np.min(np.array(external_fld)[:150,16,0]))"
   ]
  },
  {
   "cell_type": "code",
   "execution_count": null,
   "metadata": {},
   "outputs": [],
   "source": [
    "np.max(np.array(external_fld)[:,16,0])/np.min(np.array(external_fld)[:150,16,0])"
   ]
  },
  {
   "cell_type": "markdown",
   "metadata": {},
   "source": [
    "Now running the simulation"
   ]
  },
  {
   "cell_type": "code",
   "execution_count": null,
   "metadata": {},
   "outputs": [],
   "source": [
    "#arays to store the particles trajectories\n",
    "ele_part_rep =[]\n",
    "\n",
    "while sim.t < 150:\n",
    "    print('n = {:d}, t = {:g}'.format(sim.n,sim.t), end = '\\r')\n",
    "    #store the electron trajectories\n",
    "    if sim.n%10 ==0 :\n",
    "        ele_part_rep.append(electrons.particles[:].copy())\n",
    "\n",
    "    sim.iter()"
   ]
  },
  {
   "cell_type": "markdown",
   "metadata": {},
   "source": [
    "### Checking the results"
   ]
  },
  {
   "cell_type": "markdown",
   "metadata": {},
   "source": [
    "#### Plasma position.\n",
    "\n",
    "As the simulation progresses, some plasma particles are able to leave the magnetic bottle and others bounce back."
   ]
  },
  {
   "cell_type": "code",
   "execution_count": null,
   "metadata": {},
   "outputs": [],
   "source": [
    "import matplotlib.pyplot as plt\n",
    "fig, axes = plt.subplots(nrows=1, ncols=3, figsize=(16, 5))\n",
    "\n",
    "x = lambda s : (s['ix'] + s['x']) * sim.dx[0] \n",
    "y = lambda s : (s['iy'] + s['y']) * sim.dx[1]\n",
    "\n",
    "xscat_0=[x(ai) for ai in ele_part_rep[400]]\n",
    "yscat_0=[y(ai) for ai in ele_part_rep[400]]\n",
    "axes[0].scatter(xscat_0,yscat_0,c=\"k\",alpha=0.4,lw=0.1,s=5)\n",
    "\n",
    "xscat_1=[x(ai) for ai in ele_part_rep[600]]\n",
    "yscat_1=[y(ai) for ai in ele_part_rep[600]]\n",
    "axes[1].scatter(xscat_1,yscat_1,c=\"k\",alpha=0.4,lw=0.1,s=5)\n",
    "\n",
    "xscat_2=[x(ai) for ai in ele_part_rep[900]]\n",
    "yscat_2=[y(ai) for ai in ele_part_rep[900]]\n",
    "axes[2].scatter(xscat_2,yscat_2,c=\"k\",alpha=0.4,lw=0.1,s=5)\n",
    "    \n",
    "axes[0].set_title(\"t = {:g}\".format(dt*4000))\n",
    "axes[1].set_yticklabels([])\n",
    "axes[1].set_title(\"t = {:g}\".format(dt*6000))\n",
    "axes[2].set_yticklabels([])\n",
    "axes[2].set_title(\"t = {:g}\".format(dt*8000))\n",
    "\n",
    "\n",
    "for ax in axes:\n",
    "    ax.set_xlabel(\"x1\")\n",
    "    ax.set_xlim(1,15)\n",
    "    ax.set_ylim(0.14,0.38)\n",
    "    ax.set_ylim(0.15,0.35)\n",
    "    ax.axvline(9,ls=\"--\",c=\"r\")\n",
    "\n",
    "    ax.grid()\n",
    "    \n",
    "axes[0].set_ylabel(\"x2\")\n",
    "plt.show()"
   ]
  },
  {
   "cell_type": "markdown",
   "metadata": {},
   "source": [
    "#### Single particle behaviour\n",
    "\n",
    "The trajectory of a single paticle can properly illustrate the phenomenon.\n",
    "\n",
    "It starts in the middle of the bottle, and as it gets to regions of higher $B$ the perpendicular velocity increases and  the longitudinal velocity goes to zero, due to the conservation of magnetic momentum. This effect is clearly visible on the u1-x1 phasespace trajectory.\n",
    "When it reaches 0, the particle bouces back until it reaches the other end of the bottle."
   ]
  },
  {
   "cell_type": "code",
   "execution_count": null,
   "metadata": {},
   "outputs": [],
   "source": [
    "a=np.transpose(ele_part_rep)\n",
    "\n",
    "\n",
    "import matplotlib.pyplot as plt\n",
    "fig, axes = plt.subplots(nrows=2, ncols=3, figsize=(16, 10))\n",
    "\n",
    "e_posx_t=[(i['ix']+i['x'])*box[0]/nx[0] for i in a[12]]\n",
    "e_posy_t=[(i['iy']+i['y'])*box[1]/nx[1] for i in a[12]]\n",
    "\n",
    "axes[0,0].plot(e_posx_t[:300],e_posy_t[:300],c=\"k\",lw=0.3)\n",
    "axes[0,0].scatter(e_posx_t[300-1],e_posy_t[300-1],c=\"k\",lw=0.3,s=15)\n",
    "axes[0,1].plot(e_posx_t[:900],e_posy_t[:900],c=\"k\",lw=0.3)\n",
    "axes[0,1].scatter(e_posx_t[900-1],e_posy_t[900-1],c=\"k\",lw=0.3,s=15)\n",
    "axes[0,0].set_ylabel(\"x2\")\n",
    "\n",
    "axes[0,2].plot(e_posx_t[:-1],e_posy_t[:-1],c=\"k\",lw=0.3)\n",
    "axes[0,2].scatter(e_posx_t[-2],e_posy_t[-2],c=\"k\",lw=0.3,s=15)\n",
    "\n",
    "axes[0,0].set_title(\"t = {:g}\".format(dt*3000))\n",
    "axes[0,1].set_yticklabels([])\n",
    "axes[0,1].set_title(\"t = {:g}\".format(dt*9000))\n",
    "axes[0,2].set_yticklabels([])\n",
    "axes[0,2].set_title(\"t = {:g}\".format(dt*sim.n))\n",
    "\n",
    "\n",
    "e_ux_t=[i[\"ux\"] for i in a[12]]\n",
    "e_uy_t=[i[\"uz\"] for i in a[12]]\n",
    "\n",
    "axes[1,0].plot(e_posx_t[:300],e_ux_t[:300],c=\"k\")\n",
    "axes[1,1].plot(e_posx_t[:900],e_ux_t[:900],c=\"k\")\n",
    "axes[1,2].plot(e_posx_t[:-1],e_ux_t[:-1],c=\"k\")\n",
    "axes[1,0].set_ylabel(\"u1\")\n",
    "\n",
    "axes[1,1].set_yticklabels([])\n",
    "axes[1,2].set_yticklabels([])\n",
    "\n",
    "for ax in axes:\n",
    "    for ax_ in ax:\n",
    "        ax_.set_ylim(0.2,0.3)\n",
    "        ax_.set_xlim(2,7)\n",
    "        ax_.axvline(9,ls=\"--\",c=\"r\")\n",
    "        ax_.grid()\n",
    "\n",
    "for ax in axes[1,:]:\n",
    "    ax.set_xlabel(\"x1\")\n",
    "    ax.set_ylim(-0.06,0.06)\n",
    "    \n",
    "plt.show()"
   ]
  },
  {
   "cell_type": "markdown",
   "metadata": {},
   "source": [
    "**Q:** What would happen if the simulation kept running? Would the particle leave?\n",
    "\n",
    "***\n",
    "*anwser*\n",
    "___"
   ]
  },
  {
   "cell_type": "markdown",
   "metadata": {},
   "source": [
    "#### Full picture\n",
    "\n",
    "Looking at the trajecotries from all the particles in the bottle, we see that some particles bounce back before\n",
    "the end of the bottle (in red, dashed), while others are able to go past the current loop without being reflected."
   ]
  },
  {
   "cell_type": "code",
   "execution_count": null,
   "metadata": {},
   "outputs": [],
   "source": [
    "bound_idx=[]\n",
    "unbound_idx=[]\n",
    "for j in range(len(electrons.particles))[::]:\n",
    "    if (a[j][-1]['ix']+a[j][-1]['x'])*box[0]/nx[0]>9 or min(a[j][\"ux\"])>0:\n",
    "        unbound_idx.append(j)\n",
    "    else:\n",
    "        bound_idx.append(j)"
   ]
  },
  {
   "cell_type": "markdown",
   "metadata": {},
   "source": [
    "Here we plot these two groups of particles separately"
   ]
  },
  {
   "cell_type": "code",
   "execution_count": null,
   "metadata": {},
   "outputs": [],
   "source": [
    "import matplotlib.pyplot as plt\n",
    "fig, axes = plt.subplots(nrows=2, ncols=3, figsize=(16, 8))\n",
    "\n",
    "tstep=-1\n",
    "for j in bound_idx[::32]:\n",
    "    e_posx_t=[(i['ix']+i['x'])*box[0]/nx[0] for i in a[j][:tstep]]\n",
    "    e_posy_t=[(i['iy']+i['y'])*box[1]/nx[1] for i in a[j][:tstep]]\n",
    "    axes[0,0].plot(e_posx_t[:300],e_posy_t[:300],c=\"k\",alpha=0.4,lw=0.1)\n",
    "    axes[0,1].plot(e_posx_t[:900],e_posy_t[:900],c=\"k\",alpha=0.4,lw=0.1)\n",
    "    axes[0,2].plot(e_posx_t,e_posy_t,c=\"k\",alpha=0.4,lw=0.1)\n",
    "\n",
    "axes[0,0].set_title(\"t = {:g}\".format(dt*1500))\n",
    "axes[0,1].set_title(\"t = {:g}\".format(dt*3000))\n",
    "axes[0,2].set_title(\"t = {:g}\".format(dt*4500))\n",
    "\n",
    "for j in unbound_idx[::16]:\n",
    "    e_posx_t=[(i['ix']+i['x'])*box[0]/nx[0] for i in a[j][:tstep]]\n",
    "    e_posy_t=[(i['iy']+i['y'])*box[1]/nx[1] for i in a[j][:tstep]]\n",
    "    axes[1,0].plot(e_posx_t[:300],e_posy_t[:300],c=\"r\",alpha=0.4,lw=0.1)\n",
    "    axes[1,1].plot(e_posx_t[:900],e_posy_t[:900],c=\"r\",alpha=0.4,lw=0.1)\n",
    "    axes[1,2].plot(e_posx_t,e_posy_t,c=\"r\",alpha=0.4,lw=0.1)\n",
    "\n",
    "for ax in axes[1]:\n",
    "    ax.set_xlabel(\"x1\")\n",
    "\n",
    "for ax in axes[:,0]:\n",
    "    ax.set_ylabel(\"x2\")\n",
    "\n",
    "for ax in axes:\n",
    "    for ax_ in ax:\n",
    "        ax_.set_ylim(0.15,0.35)\n",
    "        ax_.set_xlim(0.5,16)\n",
    "        ax_.axvline(9,ls=\"--\",c=\"r\")\n",
    "        ax_.grid()\n",
    "\n",
    "plt.show()"
   ]
  },
  {
   "cell_type": "markdown",
   "metadata": {},
   "source": [
    "**Q:** What is the difference between these two groups?\n",
    "\n",
    "***\n",
    "*anwser*\n",
    "___"
   ]
  },
  {
   "cell_type": "markdown",
   "metadata": {},
   "source": [
    "Here we plot the u1-x1 phasespace trajectories, where you can see that the trapped particles' longitudinal velocity (in black) periodically goes from positive to negative values, whereas the free particles long velocity (in red) never goes below 0."
   ]
  },
  {
   "cell_type": "code",
   "execution_count": null,
   "metadata": {},
   "outputs": [],
   "source": [
    "import matplotlib.pyplot as plt\n",
    "fig, axes = plt.subplots(nrows=1, ncols=3, figsize=(16, 8))\n",
    "\n",
    "for ax in axes:\n",
    "        ax.set_ylim(0.0,0.06)\n",
    "        ax.set_xlim(2.5,16.5)\n",
    "        ax.set_xlabel(\"$x_1\\;[c/\\omega_p]$\")\n",
    "        ax.grid(alpha=0.6,ls=\"--\")\n",
    "\n",
    "axes[0].set_title(\"t = {:g}\".format(dt*6000))\n",
    "axes[0].set_ylabel(\"$u_1\\;[c]$\")\n",
    "axes[1].set_yticklabels([])\n",
    "axes[1].set_title(\"t = {:g}\".format(dt*12000))\n",
    "\n",
    "axes[2].set_yticklabels([])\n",
    "axes[2].set_title(\"t = {:g}\".format(dt*sim.n))\n",
    "\n",
    "\n",
    "for j in unbound_idx[::]:\n",
    "    e_posx_t=[(i['ix']+i['x'])*box[0]/nx[0] for i in a[j][:tstep]]\n",
    "    e_posy_t=[i['ux'] for i in a[j][:tstep]]\n",
    "    axes[0].plot(e_posx_t[:600],e_posy_t[:600],c=\"r\",alpha=0.4,lw=0.1)\n",
    "    axes[1].plot(e_posx_t[:1200],e_posy_t[:1200],c=\"r\",alpha=0.4,lw=0.1)\n",
    "    axes[2].plot(e_posx_t,e_posy_t,c=\"r\",alpha=0.4,lw=0.1)\n",
    "\n",
    "\n",
    "plt.show()"
   ]
  },
  {
   "cell_type": "code",
   "execution_count": null,
   "metadata": {},
   "outputs": [],
   "source": [
    "import matplotlib.pyplot as plt\n",
    "fig, axes = plt.subplots(nrows=1, ncols=3, figsize=(16, 8))\n",
    "\n",
    "\n",
    "for j in bound_idx[::]:\n",
    "    e_posx_t=[(i['ix']+i['x'])*box[0]/nx[0] for i in a[j][:tstep]]\n",
    "    e_posy_t=[i['ux'] for i in a[j][:tstep]]\n",
    "    axes[0].plot(e_posx_t[:600],e_posy_t[:600],c=\"k\",alpha=0.4,lw=0.1)\n",
    "    axes[1].plot(e_posx_t[:1200],e_posy_t[:1200],c=\"k\",alpha=0.4,lw=0.1)\n",
    "    axes[2].plot(e_posx_t,e_posy_t,c=\"k\",alpha=0.4,lw=0.1)\n",
    "\n",
    "axes[0].set_title(\"t = {:g}\".format(dt*6000))\n",
    "axes[0].set_ylabel(\"$u_1\\;[c]$\")\n",
    "axes[1].set_yticklabels([])\n",
    "axes[1].set_title(\"t = {:g}\".format(dt*12000))\n",
    "\n",
    "axes[2].set_yticklabels([])\n",
    "axes[2].set_title(\"t = {:g}\".format(dt*sim.n))\n",
    "\n",
    "for ax in axes:\n",
    "        ax.set_ylim(-0.06,0.06)\n",
    "        ax.set_xlim(0.5,9)\n",
    "        ax.set_xlabel(\"$x_1\\;[c/\\omega_p]$\")\n",
    "        ax.grid()\n",
    "\n",
    "plt.show()"
   ]
  },
  {
   "cell_type": "markdown",
   "metadata": {},
   "source": [
    "This clear distinction can also be observed in the $u_y$ histogram. All particles have the same long. velocity so only particles with high enough $u_y$ are trapped."
   ]
  },
  {
   "cell_type": "code",
   "execution_count": null,
   "metadata": {},
   "outputs": [],
   "source": [
    "umax = 0.3\n",
    "nbins = 128\n",
    "\n",
    "plt.figure(figsize=(12,8))\n",
    "\n",
    "bound_ux=[a[i][0]['uy'] for i in bound_idx]\n",
    "\n",
    "plt.hist( bound_ux, bins = nbins, range = (-umax, umax),  label ='trapped particles' ,alpha=0.7,color=\"k\")\n",
    "\n",
    "unbound_ux=[a[i][0]['uy'] for i in unbound_idx]\n",
    "\n",
    "plt.hist( unbound_ux, bins = nbins, range = (-umax, umax),  label ='free particles' ,alpha=0.7,color=\"r\")\n",
    "\n",
    "\n",
    "plt.xlabel(\"$ u_2\\;[c] $\")\n",
    "plt.ylabel(\"$ n / n_0 $\")\n",
    "plt.axvline(0.05*np.tan(np.arcsin(np.sqrt(np.sqrt(np.min(np.array(external_fld)[:150,16,0])/np.max(np.array(external_fld)[:,16,0]))))))\n",
    "plt.legend()\n",
    "plt.show()"
   ]
  },
  {
   "cell_type": "markdown",
   "metadata": {},
   "source": [
    "**Q:** Does the perpendicular velocity for which the particles become trapped match the theoreticla prediction? Discuss\n",
    "\n",
    "***\n",
    "*anwser*\n",
    "___"
   ]
  },
  {
   "cell_type": "markdown",
   "metadata": {},
   "source": [
    "***\n",
    "***"
   ]
  }
 ],
 "metadata": {
  "kernelspec": {
   "display_name": "Python 3",
   "language": "python",
   "name": "python3"
  },
  "language_info": {
   "codemirror_mode": {
    "name": "ipython",
    "version": 3
   },
   "file_extension": ".py",
   "mimetype": "text/x-python",
   "name": "python",
   "nbconvert_exporter": "python",
   "pygments_lexer": "ipython3",
   "version": "3.9.1"
  }
 },
 "nbformat": 4,
 "nbformat_minor": 2
}
