{
 "cells": [
  {
   "cell_type": "markdown",
   "metadata": {},
   "source": [
    "# Laser Wakefield Accelerator\n",
    "\n",
    "2D simulation of a laser wakefield accelerator."
   ]
  },
  {
   "cell_type": "code",
   "execution_count": null,
   "metadata": {},
   "outputs": [],
   "source": [
    "import sys  \n",
    "sys.path.insert(0, '../source')\n",
    "import em2d as zpic\n",
    "import numpy as np\n",
    "\n",
    "\n",
    "dt = 0.014\n",
    "tmax = 22.0;\n",
    "\n",
    "#Simulation box\n",
    "nx  = [ 1000, 128 ]\n",
    "box = [ 20.0, 25.6 ]\n",
    "\n",
    "# Particles per cell\n",
    "ppc = [2,2]\n",
    "\n",
    "electrons = zpic.Species( \"electrons\", -1.0, ppc,\n",
    "                           density = zpic.Density( type = \"step\", start = 20.0))\n",
    "\n",
    "# Initialize simulation\n",
    "sim = zpic.Simulation( nx, box, dt, species = electrons )\n",
    "\n",
    "# Add laser pulse\n",
    "sim.add_laser( zpic.Laser( type = \"gaussian\", start = 17.0, fwhm = 2.0, a0 = 1.0, omega0 = 10.0, \n",
    "                           W0 = 4.0, focus = 20.0, axis = 12.8, polarization = np.pi/2 ))\n",
    "\n",
    "\n",
    "# Set moving window\n",
    "sim.set_moving_window()\n",
    "\n",
    "# Set current smoothing\n",
    "sim.set_smooth( zpic.Smooth(xtype = \"compensated\", xlevel = 4) )\n",
    "\n",
    "# Run the simulation\n",
    "sim.run( tmax )\n"
   ]
  },
  {
   "cell_type": "markdown",
   "metadata": {},
   "source": [
    "## Laser Field"
   ]
  },
  {
   "cell_type": "code",
   "execution_count": null,
   "metadata": {},
   "outputs": [],
   "source": [
    "import matplotlib.pyplot as plt\n",
    "\n",
    "range = [[0,sim.box[0]],[0,sim.box[1]]]\n",
    "\n",
    "plt.imshow( sim.emf.Ez, interpolation = 'bilinear', origin = 'lower',\n",
    "          extent = ( range[0][0], range[0][1], range[1][0], range[1][1] ),\n",
    "          aspect = 'auto', cmap = 'jet')\n",
    "\n",
    "plt.colorbar().set_label('$E_3$')\n",
    "plt.xlabel(\"$x_1$\")\n",
    "plt.ylabel(\"$x_2$\")\n",
    "plt.title(\"Laser Field\\nt = {:g}\".format(sim.t))\n",
    "\n",
    "plt.show()"
   ]
  },
  {
   "cell_type": "markdown",
   "metadata": {},
   "source": [
    "## Accelerating Field"
   ]
  },
  {
   "cell_type": "code",
   "execution_count": null,
   "metadata": {},
   "outputs": [],
   "source": [
    "import matplotlib.pyplot as plt\n",
    "\n",
    "range = [[0,sim.box[0]],[0,sim.box[1]]]\n",
    "\n",
    "plt.imshow( sim.emf.Ex, interpolation = 'bilinear', origin = 'lower',\n",
    "          extent = ( range[0][0], range[0][1], range[1][0], range[1][1] ),\n",
    "          aspect = 'auto', cmap = 'jet')\n",
    "\n",
    "plt.colorbar().set_label('$E_1$')\n",
    "plt.xlabel(\"$x_1$\")\n",
    "plt.ylabel(\"$x_2$\")\n",
    "plt.title(\"Accelerating Field\\nt = {:g}\".format(sim.t))\n",
    "\n",
    "plt.show()"
   ]
  },
  {
   "cell_type": "markdown",
   "metadata": {},
   "source": [
    "## Background Plasma Density"
   ]
  },
  {
   "cell_type": "code",
   "execution_count": null,
   "metadata": {},
   "outputs": [],
   "source": [
    "import matplotlib.pyplot as plt\n",
    "\n",
    "range = [[0,sim.box[0]],[0,sim.box[1]]]\n",
    "\n",
    "plt.imshow( np.abs(electrons.charge()), interpolation = 'bilinear', origin = 'lower',\n",
    "          extent = ( range[0][0], range[0][1], range[1][0], range[1][1] ),\n",
    "          aspect = 'auto', cmap = 'jet')\n",
    "\n",
    "plt.colorbar().set_label('$n_0$')\n",
    "plt.xlabel(\"$x_1$\")\n",
    "plt.ylabel(\"$x_2$\")\n",
    "plt.title(\"Plasma Density\\nt = {:g}\".format(sim.t))\n",
    "\n",
    "plt.show()"
   ]
  },
  {
   "cell_type": "markdown",
   "metadata": {},
   "source": [
    "## x1 - u1 Phasespace density"
   ]
  },
  {
   "cell_type": "code",
   "execution_count": null,
   "metadata": {},
   "outputs": [],
   "source": [
    "import matplotlib.pyplot as plt\n",
    "from matplotlib.colors import LogNorm\n",
    "\n",
    "nx    = [1024,512]\n",
    "range = [[0,sim.box[0]],[-2.,2.]]\n",
    "\n",
    "pha = np.abs(electrons.phasespace( ['x1','u1'], nx, range ))\n",
    "pha /= np.max(pha)\n",
    "\n",
    "plt.imshow( pha, origin = 'lower',\n",
    "          extent = ( range[0][0], range[0][1], range[1][0], range[1][1] ),\n",
    "          aspect = 'auto', cmap = 'jet', norm=LogNorm(vmin = 0.01))\n",
    "\n",
    "plt.colorbar().set_label('density')\n",
    "plt.xlabel(\"x1\")\n",
    "plt.ylabel(\"u1\")\n",
    "plt.title(\"u1-x1 phasespace density\\nt = {:g}\".format(sim.t))\n",
    "\n",
    "plt.show()"
   ]
  },
  {
   "cell_type": "code",
   "execution_count": null,
   "metadata": {},
   "outputs": [],
   "source": []
  }
 ],
 "metadata": {
  "kernelspec": {
   "display_name": "Python 3",
   "language": "python",
   "name": "python3"
  },
  "language_info": {
   "codemirror_mode": {
    "name": "ipython",
    "version": 3
   },
   "file_extension": ".py",
   "mimetype": "text/x-python",
   "name": "python",
   "nbconvert_exporter": "python",
   "pygments_lexer": "ipython3",
   "version": "3.9.1"
  }
 },
 "nbformat": 4,
 "nbformat_minor": 4
}
