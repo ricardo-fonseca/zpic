{
 "cells": [
  {
   "cell_type": "markdown",
   "metadata": {},
   "source": [
    "# Problem 3 - Laser-driven electrostatic plasma wave \n",
    "\n",
    "1D simulation of a laser-driven electronstatic plasma wave.\n",
    "\n",
    "We start by giving all the parameters needed for the simulation (outside of the laser pulse)."
   ]
  },
  {
   "cell_type": "code",
   "execution_count": null,
   "metadata": {},
   "outputs": [],
   "source": [
    "import sys  \n",
    "sys.path.insert(0, '../source')\n",
    "import em1d\n",
    "import numpy as np\n",
    "\n",
    "# Time step (time between two consecutive iterations)\n",
    "dt = 0.019\n",
    "\n",
    "# Simulation time (simulation ends when tmax is reached)\n",
    "tmax = 100\n",
    "\n",
    "# Number of cells\n",
    "nx  = 1000\n",
    "\n",
    "# Simulation box size (dx=box/nx should be higher than dt)\n",
    "box = 20.0\n",
    "\n",
    "\n",
    "## Background plasma\n",
    "\n",
    "# Particles per cell (don't change!)\n",
    "ppc = 128\n",
    "\n",
    "# Use a step density profile (no plasma until \"start\" and afterwards plasma density is 1)\n",
    "electrons = em1d.Species( \"electrons\", -1.0, ppc,\n",
    "                           density = em1d.Density( type = \"step\", start = 20.0))\n",
    "\n",
    "# Initialize simulation\n",
    "sim = em1d.Simulation( nx, box, dt, species = electrons )\n"
   ]
  },
  {
   "cell_type": "markdown",
   "metadata": {},
   "source": [
    "Now that the simulation is initialized, we need to add the external field (laser).\n",
    "\n",
    "Change the flat parameter at the next section. If you need to use the number pi, please write \"np.pi\"."
   ]
  },
  {
   "cell_type": "code",
   "execution_count": null,
   "metadata": {},
   "outputs": [],
   "source": [
    "# Add laser pulse (almost a square pulse)\n",
    "# Choose \"flat\" parameter. What should it be to maximize plasma response?\n",
    "\n",
    "#rise, fall, should be small compared to the flat parameter so we can get a almost square pulse \n",
    "\n",
    "sim.add_laser( em1d.Laser( start = 17.0, rise = 0.1, flat=2, fall=0.1 , a0 = 0.1, omega0 = 10.0, polarization = np.pi/2 ))"
   ]
  },
  {
   "cell_type": "markdown",
   "metadata": {},
   "source": [
    "Now perform some final settings and let the simulation run."
   ]
  },
  {
   "cell_type": "code",
   "execution_count": null,
   "metadata": {},
   "outputs": [],
   "source": [
    "# Set moving window\n",
    "sim.set_moving_window()\n",
    "\n",
    "# Set current smoothing\n",
    "sim.set_smooth( em1d.Smooth(xtype = \"compensated\", xlevel = 4) )\n",
    "\n",
    "n_lines=50\n",
    "\n",
    "dt_waterfall=tmax/n_lines\n",
    "\n",
    "# Plot values at the center of the cells\n",
    "xmin = sim.emf.dx/2\n",
    "xmax = sim.emf.box - sim.emf.dx/2\n",
    "\n",
    "# Run the simulation\n",
    "delta_n=np.empty((n_lines,nx))\n",
    "#This will save\n",
    "for i in range(0,n_lines):\n",
    "    sim.run( dt_waterfall*i )\n",
    "    delta_n[i]=np.abs(electrons.charge())"
   ]
  },
  {
   "cell_type": "markdown",
   "metadata": {},
   "source": [
    "We can observe E1 and the electron density in the plasma. We also plot E3 which is the direction in which the laser is polarized. That way you can observe where the laser is at the moment."
   ]
  },
  {
   "cell_type": "code",
   "execution_count": null,
   "metadata": {},
   "outputs": [],
   "source": [
    "import matplotlib.pyplot as plt\n",
    "import matplotlib\n",
    "fig, (ax1, ax3) = plt.subplots(1, 2, figsize=(10,4))\n",
    "\n",
    "matplotlib.rcParams.update({'font.size': 11})\n",
    "# Plot values at the center of the cells\n",
    "xmin = sim.emf.dx/2\n",
    "xmax = sim.emf.box - sim.emf.dx/2\n",
    "\n",
    "ax1.plot(np.linspace(xmin, xmax, num = sim.nx), sim.emf.Ex, label = \"$E_1$\" )\n",
    "ax1.set_xlabel(\"$x1 [c/\\omega_p]$\")\n",
    "ax1.set_ylabel(\"$E1$\")\n",
    "ax1.set_title(\"Longitudinal Electric Field and Plasma Density\\n t = {:g}\".format(sim.t))\n",
    "ax1.grid(True)\n",
    "ax2 = ax1.twinx()\n",
    "ax2.plot(np.linspace(xmin, xmax, num = sim.nx), np.abs(electrons.charge()),'r', label = \"$|n|$\" , alpha = 0.8)\n",
    "ax2.set_ylabel(\"|$n$|\")\n",
    "ax2.set_ylim(0.99,1.01)\n",
    "\n",
    "ax3.plot(np.linspace(xmin, xmax, num = sim.nx), sim.emf.Ez)\n",
    "ax3.set_ylabel(\"$E3$\")\n",
    "ax3.set_xlabel(\"$x1 [c/\\omega_p]$\")\n",
    "ax3.grid(True)\n",
    "ax3.set_title(\"Transverse Electric Field\\n t = {:g}\".format(sim.t))\n",
    "\n",
    "fig.legend(loc = (0.385,0.68))\n",
    "fig.tight_layout()\n",
    "plt.show()\n",
    "delta_n=np.array(delta_n)"
   ]
  },
  {
   "cell_type": "code",
   "execution_count": null,
   "metadata": {
    "scrolled": true
   },
   "outputs": [],
   "source": [
    "import matplotlib.pyplot as plt\n",
    "import matplotlib\n",
    "\n",
    "matplotlib.rcParams.update({'font.size': 15})\n",
    "plt.clf()\n",
    "fig = plt.figure(figsize=(10,4))\n",
    "\n",
    "verts=[]\n",
    "plt.imshow(delta_n-1,extent=(0, nx*sim.dx, 0,sim.t),vmax=0.02,vmin=-0.02,origin='lower',aspect='auto',cmap='seismic')\n",
    "plt.xlabel(r'$x-ct\\quad [c/\\omega_p]$')\n",
    "plt.ylabel(r'$t\\quad [1/\\omega_p]$')\n",
    "cbar=plt.colorbar()\n",
    "cbar.set_label(r'$|n|-1\\quad[e\\omega_p/c]$')\n",
    "\n",
    "#In this case the phase velocity would be  c (1 + (3.24-3.47)/(80-40) ) =0.995c\n",
    "plt.plot([3.47,3.24],[40,80],'b', c='k')\n",
    "\n",
    "plt.show()"
   ]
  },
  {
   "cell_type": "markdown",
   "metadata": {},
   "source": [
    "# Longer laser length\n",
    "#### Establishing the maximum plasma response\n",
    "\n",
    "Now we need to establish if the plasma response is maximum for the selected laser length. Try two different lengths (longer and shorter than your calculation) and check if the wave amplitude decreases in size.\n",
    "\n",
    "Try now with a longer laser length (everything from the first runs will be lost, but the pictures will stay there)."
   ]
  },
  {
   "cell_type": "code",
   "execution_count": null,
   "metadata": {},
   "outputs": [],
   "source": [
    "# Time step (time between two consecutive iterations)\n",
    "dt = 0.019\n",
    "\n",
    "# Simulation time (simulation ends when tmax is reached)\n",
    "tmax = 100\n",
    "\n",
    "# Number of cells\n",
    "nx  = 1000\n",
    "\n",
    "# Simulation box size (dx=box/nx should be higher than dt)\n",
    "box = 20.0\n",
    "\n",
    "\n",
    "## Background plasma\n",
    "\n",
    "# Particles per cell (don't change!)\n",
    "ppc = 128\n",
    "\n",
    "# Use a step density profile (no plasma until \"start\" and afterwards plasma density is 1)\n",
    "electrons1 = em1d.Species( \"electrons1\", -1.0, ppc,\n",
    "                           density = em1d.Density( type = \"step\", start = 20.0))\n",
    "\n",
    "# Initialize simulation\n",
    "sim1 = em1d.Simulation( nx, box, dt, species = electrons1 )\n",
    "\n",
    "# Add laser pulse (almost a square pulse)\n",
    "# Change \"flat\" parameter. What should it be to maximize plasma response?\n",
    "\n",
    "#rise \n",
    "\n",
    "sim1.add_laser( em1d.Laser( start = 17.0, rise = 0.1, flat=np.pi*2, fall=0.1 , a0 = 0.1, omega0 = 10.0, polarization = np.pi/2 ))\n",
    "\n",
    "# Set moving window\n",
    "sim1.set_moving_window()\n",
    "\n",
    "# Set current smoothing\n",
    "sim1.set_smooth( em1d.Smooth(xtype = \"compensated\", xlevel = 4) )\n",
    "\n",
    "\n",
    "# Plot values at the center of the cells\n",
    "xmin = sim1.emf.dx/2\n",
    "xmax = sim1.emf.box - sim1.emf.dx/2\n",
    "\n",
    "# Run the simulation\n",
    "sim1.run( tmax )"
   ]
  },
  {
   "cell_type": "markdown",
   "metadata": {},
   "source": [
    "We can check the electric field now. How does it compare with the initial one?"
   ]
  },
  {
   "cell_type": "code",
   "execution_count": null,
   "metadata": {},
   "outputs": [],
   "source": [
    "import matplotlib.pyplot as plt\n",
    "import matplotlib\n",
    "fig, (ax1, ax3) = plt.subplots(1, 2, figsize=(10,4))\n",
    "matplotlib.rcParams.update({'font.size': 11})\n",
    "# Plot values at the center of the cells\n",
    "xmin = sim1.emf.dx/2\n",
    "xmax = sim1.emf.box - sim1.emf.dx/2\n",
    "\n",
    "ax1.plot(np.linspace(xmin, xmax, num = sim1.nx), sim1.emf.Ex, label = \"$E_1$\" )\n",
    "ax1.set_xlabel(\"x1\")\n",
    "ax1.set_ylabel(\"E1\")\n",
    "ax1.grid(True)\n",
    "\n",
    "ax2 = ax1.twinx()\n",
    "ax2.plot(np.linspace(xmin, xmax, num = sim1.nx), np.abs(electrons1.charge()),'r', label = \"$|n|$\" , alpha = 0.8)\n",
    "ax2.set_ylabel(\"|$n$|\")\n",
    "ax2.set_ylim(0.99,1.01)\n",
    "\n",
    "ax3.plot(np.linspace(xmin, xmax, num = sim.nx), sim.emf.Ez)\n",
    "ax3.set_ylabel(\"$E3$\")\n",
    "ax3.set_xlabel(\"$x1 [c/\\omega_p]$\")\n",
    "ax3.grid(True)\n",
    "ax3.set_title(\"Transverse Electric Field\\n t = {:g}\".format(sim.t))\n",
    "\n",
    "fig.legend(loc = (0.7,0.70))\n",
    "fig.tight_layout()\n",
    "plt.show()"
   ]
  },
  {
   "cell_type": "markdown",
   "metadata": {},
   "source": [
    "# Shorter laser length\n",
    "\n",
    "\n",
    "Now try with a shorter laser length (not too short, keep it at the same order of magnitude - the flat parameter should be larger than the rise and fall parameters). Do the results make sense?"
   ]
  },
  {
   "cell_type": "code",
   "execution_count": null,
   "metadata": {},
   "outputs": [],
   "source": [
    "# Time step (time between two consecutive iterations)\n",
    "dt = 0.019\n",
    "\n",
    "# Simulation time (simulation ends when tmax is reached)\n",
    "tmax = 100\n",
    "\n",
    "# Number of cells\n",
    "nx  = 1000\n",
    "\n",
    "# Simulation box size (dx=box/nx should be higher than dt)\n",
    "box = 20.0\n",
    "\n",
    "\n",
    "## Background plasma\n",
    "\n",
    "# Particles per cell (don't change!)\n",
    "ppc = 128\n",
    "\n",
    "# Use a step density profile (no plasma until \"start\" and afterwards plasma density is 1)\n",
    "electrons2 = em1d.Species( \"electrons2\", -1.0, ppc,\n",
    "                           density = em1d.Density( type = \"step\", start = 20.0))\n",
    "\n",
    "# Initialize simulation\n",
    "sim2 = em1d.Simulation( nx, box, dt, species = electrons2 )\n",
    "\n",
    "# Add laser pulse (almost a square pulse)\n",
    "# Change \"flat\" parameter. Choose a shorter length than in the original simulation\n",
    "\n",
    "#rise \n",
    "\n",
    "sim2.add_laser( em1d.Laser( start = 17.0, rise = 0.1, flat=np.pi/2, fall=0.1 , a0 = 0.1, omega0 = 10.0, polarization = np.pi/2 ))\n",
    "\n",
    "# Set moving window\n",
    "sim2.set_moving_window()\n",
    "\n",
    "# Set current smoothing\n",
    "sim2.set_smooth( em1d.Smooth(xtype = \"compensated\", xlevel = 4) )\n",
    "\n",
    "\n",
    "# Plot values at the center of the cells\n",
    "xmin = sim2.emf.dx/2\n",
    "xmax = sim2.emf.box - sim2.emf.dx/2\n",
    "\n",
    "# Run the simulation\n",
    "sim2.run( tmax )# Time step (time between two consecutive iterations)"
   ]
  },
  {
   "cell_type": "markdown",
   "metadata": {},
   "source": [
    "We can check the electric field now. Did you obtain the result you were hoping?"
   ]
  },
  {
   "cell_type": "code",
   "execution_count": null,
   "metadata": {},
   "outputs": [],
   "source": [
    "import matplotlib.pyplot as plt\n",
    "import matplotlib\n",
    "plt.clf()\n",
    "fig, ax1 = plt.subplots()\n",
    "matplotlib.rcParams.update({'font.size': 11})\n",
    "# Plot values at the center of the cells\n",
    "xmin = sim2.emf.dx/2\n",
    "xmax = sim2.emf.box - sim2.emf.dx/2\n",
    "\n",
    "ax1.plot(np.linspace(xmin, xmax, num = sim2.nx), sim2.emf.Ex, label = \"$E_1$\" )\n",
    "ax1.set_xlabel(\"x1\")\n",
    "ax1.set_ylabel(\"E1\")\n",
    "\n",
    "ax2 = ax1.twinx()\n",
    "ax2.plot(np.linspace(xmin, xmax, num = sim2.nx), np.abs(electrons2.charge()),'r', label = \"$|n|$\" , alpha = 0.8)\n",
    "ax2.set_ylabel(\"|$n$|\")\n",
    "ax2.set_ylim(0.99,1.01)\n",
    "\n",
    "plt.title(\"Longitudinal Electric Field and Plasma Density\\n t = {:g}\".format(sim2.t))\n",
    "plt.grid(True)\n",
    "\n",
    "fig.legend(loc = (0.7,0.70))\n",
    "fig.tight_layout()\n",
    "plt.show()"
   ]
  },
  {
   "cell_type": "code",
   "execution_count": null,
   "metadata": {},
   "outputs": [],
   "source": []
  }
 ],
 "metadata": {
  "kernelspec": {
   "display_name": "Python 3",
   "language": "python",
   "name": "python3"
  },
  "language_info": {
   "codemirror_mode": {
    "name": "ipython",
    "version": 3
   },
   "file_extension": ".py",
   "mimetype": "text/x-python",
   "name": "python",
   "nbconvert_exporter": "python",
   "pygments_lexer": "ipython3",
   "version": "3.9.1"
  }
 },
 "nbformat": 4,
 "nbformat_minor": 2
}
