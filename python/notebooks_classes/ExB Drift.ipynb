{
 "cells": [
  {
   "cell_type": "markdown",
   "metadata": {},
   "source": [
    "## $\\mathbf{E}\\times \\mathbf{B}$ Drift\n",
    "2D simulations of Single Particle Drifts\n",
    "***"
   ]
  },
  {
   "cell_type": "markdown",
   "metadata": {},
   "source": [
    "#### About the simulation"
   ]
  },
  {
   "cell_type": "markdown",
   "metadata": {},
   "source": [
    "We will be using the 2D version of **ZPIC**. With this particle in cell code we are required to initialize a full plasma instead of a single particle. However, we may still track single particles and eliminate collective effects by decreasing the plasma density.\n",
    "\n"
   ]
  },
  {
   "cell_type": "markdown",
   "metadata": {},
   "source": [
    "#### About the phenomenon"
   ]
  },
  {
   "cell_type": "markdown",
   "metadata": {},
   "source": [
    "$\\mathbf{E}\\times \\mathbf{B}$ drift happens when the cyclotron motion is combined with the acceleration coming from an electric field.\n",
    "\n",
    "The change in the cyclotron radius imposed by the acceleration (remember that $r_{cycl}=v_\\perp/\\omega_c$) leads to a net displacement in the direction of $\\mathbf{E}\\times \\mathbf{B}$\n",
    "\n"
   ]
  },
  {
   "cell_type": "markdown",
   "metadata": {},
   "source": [
    "#### The simulation"
   ]
  },
  {
   "cell_type": "code",
   "execution_count": null,
   "metadata": {},
   "outputs": [],
   "source": [
    "import sys  \n",
    "sys.path.insert(0, '../source')\n",
    "# get ZPIC 2D\n",
    "import em2d\n",
    "import numpy as np\n",
    "\n",
    "# Time step\n",
    "dt = 0.01\n",
    "\n",
    "# Simulation time\n",
    "tmax = 22.8\n",
    "\n",
    "# Number of cells\n",
    "nx  = [64,64]\n",
    "\n",
    "# Simulation box size\n",
    "box = [6,6]\n",
    "\n",
    "\n",
    "## Plasma slabs\n",
    "# Particles per cell\n",
    "ppc = [4,4]\n",
    "\n",
    "def custom_n0(x):\n",
    "    if (x>1.2 and x<1.4):\n",
    "        return 1.0\n",
    "    else:\n",
    "        return 0.0\n",
    "\n",
    "# Use a custom density profile\n",
    "dens = em2d.Density( type = \"custom\", custom_x = custom_n0,custom_y = custom_n0  )\n",
    "# Set up a super low density\n",
    "dens.n=1e-6\n",
    "# give it a small velocity to kick of the motion\n",
    "ufl=0.1\n",
    "#create the species\n",
    "electrons = em2d.Species( \"electrons\", m_q=-1,ppc= ppc,\n",
    "                           density = dens,ufl=[ufl,0,0])\n",
    "\n",
    "## Positive charge\n",
    "dens2=em2d.Density( type = \"custom\", custom_x = custom_n0,custom_y = custom_n0  )\n",
    "dens2.n=1e-6\n",
    "positives = em2d.Species( \"positrons\", m_q=2, ppc=ppc,\n",
    "                           density = dens2,ufl=[ufl,0,0])\n",
    "\n",
    "\n",
    "# Initialize simulation\n",
    "sim = em2d.Simulation( nx, box, dt, species = (electrons,positives) )\n",
    "\n",
    "#Set the sorting period to 0 in order to track the particle's trajectories \n",
    "#(this must be done after initilializng the simulation object)\n",
    "positives.n_sort=0\n",
    "electrons.n_sort=0\n",
    "\n",
    "#Setup the external fields (Remenber that they must be perpendicular)\n",
    "B=[0,0,1]\n",
    "E=[0,0.01,0]\n",
    "\n",
    "\n",
    "ext = em2d.ExternalField(B_type = 'uniform', B_0 = B,E_type = 'uniform', E_0 = E)\n",
    "\n",
    "sim.emf.set_ext_fld( ext )\n",
    "\n",
    "\n",
    "\n",
    "#arays to store the particles trajectories\n",
    "pos_part_rep =[]\n",
    "ele_part_rep =[]\n",
    "\n",
    "\n",
    "while sim.t < 16*np.pi:\n",
    "    print('n = {:d}, t = {:g}'.format(sim.n,sim.t), end = '\\r')\n",
    "    #store the electron trajectories\n",
    "    ele_part_rep.append(electrons.particles[40].copy())\n",
    "    #store the positron(ish) trajectories\n",
    "    pos_part_rep.append(positives.particles[40].copy())\n",
    "\n",
    "    sim.iter()"
   ]
  },
  {
   "cell_type": "code",
   "execution_count": null,
   "metadata": {},
   "outputs": [],
   "source": [
    "#convert trajectories to position arrays\n",
    "e_posx_t=[(i['ix']+i['x'])*box[0]/nx[0] for i in ele_part_rep]\n",
    "e_posy_t=[(i['iy']+i['y'])*box[1]/nx[1] for i in ele_part_rep]\n",
    "\n",
    "p_posx_t=[(i['ix']+i['x'])*box[0]/nx[0] for i in pos_part_rep]\n",
    "p_posy_t=[(i['iy']+i['y'])*box[1]/nx[1] for i in pos_part_rep]\n",
    "\n",
    "#create time array\n",
    "t=np.linspace(0,sim.t,sim.n)"
   ]
  },
  {
   "cell_type": "code",
   "execution_count": null,
   "metadata": {},
   "outputs": [],
   "source": [
    "e_vx_t=[(i['ux']) for i in ele_part_rep]\n",
    "e_vy_t=[(i['uy']) for i in ele_part_rep]\n",
    "\n",
    "\n",
    "p_vx_t=[(i['ux']) for i in pos_part_rep]\n",
    "p_vy_t=[(i['uy']) for i in pos_part_rep]"
   ]
  },
  {
   "cell_type": "markdown",
   "metadata": {},
   "source": [
    "Run the next cell to plot the trajectory of the electron under the influence of these fields"
   ]
  },
  {
   "cell_type": "code",
   "execution_count": null,
   "metadata": {
    "scrolled": false
   },
   "outputs": [],
   "source": [
    "import matplotlib.pyplot as plt\n",
    "import matplotlib as mpl\n",
    "import matplotlib.gridspec as gridspec\n",
    "\n",
    "#Set up the plot\n",
    "fig=plt.figure(figsize=(14, 7), dpi=120)\n",
    "plt.rcParams.update({'font.size': 18})\n",
    "gs2 = gridspec.GridSpec(2, 2, hspace=0.1,width_ratios=[1, 2])\n",
    "\n",
    "#left part: xy trajectories\n",
    "ax = plt.subplot(gs2[:, 0])\n",
    "## negative charge trajectory\n",
    "ax.plot(e_posx_t,e_posy_t,lw=2)\n",
    "ax.scatter(e_posx_t[-1],e_posy_t[-1])\n",
    "\n",
    "#top right: xt trajectories\n",
    "ax2 = plt.subplot(gs2[0,1])\n",
    "ax2.plot(t,E[1]/B[2]*t+(p_posx_t[0]+e_posx_t[0])/2,lw=2,c='k',ls='--',alpha=0.4)\n",
    "ax2.plot(t,e_posx_t,lw=2,label=\"negative charge\")\n",
    "\n",
    "#bottom right: yt trajectories\n",
    "ax3 = plt.subplot(gs2[1,1])\n",
    "ax3.plot(t,e_posy_t,lw=2)\n",
    "\n",
    "##setup labels, grids, and others\n",
    "ax.grid(True,ls=\"--\")\n",
    "ax.set_xlabel(\"$x\\,[c/\\omega_p]$\")\n",
    "ax.set_ylabel(\"$y\\,[c/\\omega_p]$\")\n",
    "ax.set_aspect('equal', 'datalim')\n",
    "ax.set_title(\"t={:.2f}$1/\\omega_p$\".format(sim.t))\n",
    "\n",
    "ax2.set_xticklabels([])\n",
    "ax2.grid(True,ls=\"--\")\n",
    "ax2.set_ylabel(\"$x\\,[c/\\omega_p]$\")\n",
    "ax2.legend()\n",
    "\n",
    "ax3.set_ylabel(\"$y\\,[c/\\omega_p]$\")\n",
    "ax3.set_xlabel(\"$t\\,[1/\\omega_p]$\")\n",
    "ax3.grid(True,ls=\"--\")\n",
    "\n",
    "plt.show()"
   ]
  },
  {
   "cell_type": "markdown",
   "metadata": {},
   "source": [
    "**Q:** In which direction does the particle drift? How does it compare to the fields directions?\n",
    "\n",
    "***\n",
    "*anwser*\n",
    "___"
   ]
  },
  {
   "cell_type": "markdown",
   "metadata": {},
   "source": [
    "Run the next cell to plot the trajectory of the electron under the influence of these fields together with the positive charge"
   ]
  },
  {
   "cell_type": "code",
   "execution_count": null,
   "metadata": {
    "scrolled": false
   },
   "outputs": [],
   "source": [
    "import matplotlib.pyplot as plt\n",
    "import matplotlib as mpl\n",
    "import matplotlib.gridspec as gridspec\n",
    "\n",
    "#Set up the plot\n",
    "fig=plt.figure(figsize=(14, 7), dpi=120)\n",
    "plt.rcParams.update({'font.size': 18})\n",
    "gs2 = gridspec.GridSpec(2, 2, hspace=0.1,width_ratios=[1, 2])\n",
    "\n",
    "#left part: xy trajectories\n",
    "ax = plt.subplot(gs2[:, 0])\n",
    "## negative charge trajectory\n",
    "ax.plot(e_posx_t,e_posy_t,lw=2)\n",
    "ax.scatter(e_posx_t[-1],e_posy_t[-1])\n",
    "## positive charge trajectory\n",
    "ax.plot(p_posx_t,p_posy_t,lw=2,alpha=0.7)\n",
    "ax.scatter(p_posx_t[-1],p_posy_t[-1])\n",
    "\n",
    "#top right: xt trajectories\n",
    "ax2 = plt.subplot(gs2[0,1])\n",
    "ax2.plot(t,E[1]/B[2]*t+(p_posx_t[0]+e_posx_t[0])/2,lw=2,c='k',ls='--',alpha=0.4)\n",
    "ax2.plot(t,e_posx_t,lw=2,label=\"negative charge\")\n",
    "ax2.plot(t,p_posx_t,lw=2,label=\"positive charge\")\n",
    "\n",
    "#bottom right: yt trajectories\n",
    "ax3 = plt.subplot(gs2[1,1])\n",
    "ax3.plot(t,e_posy_t,lw=2)\n",
    "ax3.plot(t,p_posy_t,lw=2)\n",
    "\n",
    "##setup labels, grids, and others\n",
    "ax.grid(True,ls=\"--\")\n",
    "ax.set_xlabel(\"$x\\,[c/\\omega_p]$\")\n",
    "ax.set_ylabel(\"$y\\,[c/\\omega_p]$\")\n",
    "ax.set_aspect('equal', 'datalim')\n",
    "ax.set_title(\"t={:.2f}$1/\\omega_p$\".format(sim.t))\n",
    "\n",
    "ax2.set_xticklabels([])\n",
    "ax2.grid(True,ls=\"--\")\n",
    "ax2.set_ylabel(\"$x\\,[c/\\omega_p]$\")\n",
    "ax2.legend()\n",
    "\n",
    "ax3.set_ylabel(\"$y\\,[c/\\omega_p]$\")\n",
    "ax3.set_xlabel(\"$t\\,[1/\\omega_p]$\")\n",
    "ax3.grid(True,ls=\"--\")\n",
    "plt.show()"
   ]
  },
  {
   "cell_type": "markdown",
   "metadata": {},
   "source": [
    "##### Questions\n",
    "\n",
    "* Comment on the direction of the drift of both particles\n",
    "\n",
    "___\n",
    "___\n",
    "\n",
    "* Comment on the amplitude and frequency of both trajectories. *Hint: take a look at the simulation parameters*\n",
    "\n",
    "___\n",
    "___"
   ]
  },
  {
   "cell_type": "markdown",
   "metadata": {},
   "source": [
    "***\n",
    "***"
   ]
  }
 ],
 "metadata": {
  "kernelspec": {
   "display_name": "Python 3",
   "language": "python",
   "name": "python3"
  },
  "language_info": {
   "codemirror_mode": {
    "name": "ipython",
    "version": 3
   },
   "file_extension": ".py",
   "mimetype": "text/x-python",
   "name": "python",
   "nbconvert_exporter": "python",
   "pygments_lexer": "ipython3",
   "version": "3.9.1"
  }
 },
 "nbformat": 4,
 "nbformat_minor": 2
}
