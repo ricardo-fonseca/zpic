{
 "cells": [
  {
   "cell_type": "markdown",
   "metadata": {},
   "source": [
    "# Laser Wakefield Accelerator\n",
    "\n",
    "1D simulation of a laser wakefield accelerator."
   ]
  },
  {
   "cell_type": "code",
   "execution_count": null,
   "metadata": {},
   "outputs": [],
   "source": [
    "import sys  \n",
    "sys.path.insert(0, '../source')\n",
    "import em1d\n",
    "import numpy\n",
    "\n",
    "# Time step\n",
    "dt = 0.019\n",
    "\n",
    "# Simulation time\n",
    "tmax = 22.8\n",
    "\n",
    "# Number of cells\n",
    "nx  = 1000\n",
    "\n",
    "# Simulation box size\n",
    "box = 20.0\n",
    "\n",
    "\n",
    "## Background plasma\n",
    "\n",
    "# Particles per cell\n",
    "ppc = 128\n",
    "\n",
    "# Use a step density profile\n",
    "electrons = em1d.Species( \"electrons\", -1.0, ppc,\n",
    "                           density = em1d.Density( type = \"step\", start = 20.0))\n",
    "\n",
    "# Initialize simulation\n",
    "sim = em1d.Simulation( nx, box, dt, species = electrons )\n",
    "\n",
    "# Add laser pulse\n",
    "sim.add_laser( em1d.Laser( start = 17.0, fwhm = 2.0, a0 = 1.0, omega0 = 10.0, polarization = numpy.pi/2 ))\n",
    "\n",
    "# Set moving window\n",
    "sim.set_moving_window()\n",
    "\n",
    "# Set current smoothing\n",
    "sim.set_smooth( em1d.Smooth(xtype = \"compensated\", xlevel = 4) )\n",
    "\n",
    "# Run the simulation\n",
    "sim.run( tmax )\n"
   ]
  },
  {
   "cell_type": "markdown",
   "metadata": {},
   "source": [
    "## Longitudinal Electric field and Plasma Density"
   ]
  },
  {
   "cell_type": "code",
   "execution_count": null,
   "metadata": {},
   "outputs": [],
   "source": [
    "import matplotlib.pyplot as plt\n",
    "\n",
    "fig, ax1 = plt.subplots()\n",
    "\n",
    "# Plot values at the center of the cells\n",
    "xmin = sim.emf.dx/2\n",
    "xmax = sim.emf.box - sim.emf.dx/2\n",
    "\n",
    "ax1.plot(numpy.linspace(xmin, xmax, num = sim.nx), sim.emf.Ex, label = \"$E_1$\" )\n",
    "ax1.set_xlabel(\"x1\")\n",
    "ax1.set_ylabel(\"E1\")\n",
    "\n",
    "ax2 = ax1.twinx()\n",
    "ax2.plot(numpy.linspace(xmin, xmax, num = sim.nx), numpy.abs(electrons.charge()),'r', label = \"$|n|$\" , alpha = 0.8)\n",
    "ax2.set_ylabel(\"|$n$|\")\n",
    "ax2.set_ylim(0,2)\n",
    "\n",
    "plt.title(\"Longitudinal Electric Field and Plasma Density\\n t = {:g}\".format(sim.t))\n",
    "plt.grid(True)\n",
    "\n",
    "fig.legend(loc = (0.75,0.70))\n",
    "fig.tight_layout()\n",
    "\n",
    "plt.show()"
   ]
  },
  {
   "cell_type": "markdown",
   "metadata": {},
   "source": [
    "## x1 - u1 Phasespace"
   ]
  },
  {
   "cell_type": "code",
   "execution_count": null,
   "metadata": {},
   "outputs": [],
   "source": [
    "import matplotlib.pyplot as plt\n",
    "\n",
    "# Simple function to convert particle positions\n",
    "x = lambda s : (s.particles['ix'] + s.particles['x']) * s.dx \n",
    "\n",
    "plt.plot(x(electrons),  electrons.particles['ux'],  '.', ms = 0.2)\n",
    "plt.xlabel(\"x1\")\n",
    "plt.ylabel(\"u1\")\n",
    "plt.title(\"u1-x1 phasespace\\nt = {:g}\".format(sim.t))\n",
    "plt.grid(True)\n",
    "plt.show()"
   ]
  },
  {
   "cell_type": "code",
   "execution_count": null,
   "metadata": {},
   "outputs": [],
   "source": []
  }
 ],
 "metadata": {
  "kernelspec": {
   "display_name": "Python 3",
   "language": "python",
   "name": "python3"
  },
  "language_info": {
   "codemirror_mode": {
    "name": "ipython",
    "version": 3
   },
   "file_extension": ".py",
   "mimetype": "text/x-python",
   "name": "python",
   "nbconvert_exporter": "python",
   "pygments_lexer": "ipython3",
   "version": "3.9.1"
  }
 },
 "nbformat": 4,
 "nbformat_minor": 4
}
