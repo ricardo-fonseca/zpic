{
 "cells": [
  {
   "cell_type": "markdown",
   "metadata": {},
   "source": [
    "Created by Rui Calado and Jorge Vieira on April 2018 <br>\n",
    "Copyright 2010 Centro de Física dos Plasmas. All rights reserved."
   ]
  },
  {
   "cell_type": "markdown",
   "metadata": {},
   "source": [
    "# Wave propagation in magnetised plasmas: Faraday Rotation"
   ]
  },
  {
   "cell_type": "markdown",
   "metadata": {},
   "source": [
    "In this notebook, we are going to study the propagation of an electromagnetic wave in a magnetised plasma to observe the effect of Faraday rotation. "
   ]
  },
  {
   "cell_type": "markdown",
   "metadata": {},
   "source": [
    "Run the next cell once, when you open the notebook, before running anything else."
   ]
  },
  {
   "cell_type": "markdown",
   "metadata": {},
   "source": [
    "## Theory"
   ]
  },
  {
   "cell_type": "markdown",
   "metadata": {},
   "source": [
    "Faraday rotation occurs when a plane-polarized electromagnetic wave propagates along a magnetic field inside a plasma. This wave is called a parallel wave since we have $\\mathbf{k}\\parallel\\mathbf{B}_0$. When this waves traverses a length of plasma, its polarization plane becomes rotated when compared to the initial polarization.\n",
    "\n",
    "The theory for parallel, plane polarized waves propagating in a magnetised plasma predicts the splitting of the linearly polarized wave into two circularly polarized waves. These waves are called the $R$ and $L$ waves and are, respectively, right-hand and left-hand circularly polarized. The dispersion relations for these two waves are:\n",
    "\n",
    "$$\\frac{c^2k^2}{\\omega^2}=\\widetilde{n}^2=1-\\frac{\\omega_p^2/\\omega^2}{1-\\omega_c/\\omega}\\quad R\\ \\mathrm{wave}$$\n",
    "\n",
    "$$\\frac{c^2k^2}{\\omega^2}=\\widetilde{n}^2=1-\\frac{\\omega_p^2/\\omega^2}{1+\\omega_c/\\omega}\\quad L\\ \\mathrm{wave}$$\n",
    "\n",
    "where $\\omega_p$ is the plasma frequency and $\\omega_c$ the electron cyclotron frequency. For reasons that will soon be clear, we define the cutoff frequencies $\\omega_R$ and $\\omega_L$:\n",
    "\n",
    "$$\\omega_{R \\atop L}=\\frac{1}{2}\\left ( \\sqrt{\\omega_c^2+4\\omega_p^2} \\pm \\omega_c \\right )$$\n",
    "\n",
    "Plotting the refraction index $n$ will give us information about the propagation of the waves in this medium."
   ]
  },
  {
   "cell_type": "code",
   "execution_count": null,
   "metadata": {},
   "outputs": [],
   "source": [
    "def ref_ind(wp,wc,w,br=+1):\n",
    "    return 1-wp**2/(w**2-br*wc*w)"
   ]
  },
  {
   "cell_type": "code",
   "execution_count": null,
   "metadata": {},
   "outputs": [],
   "source": [
    "import matplotlib.pyplot as plt\n",
    "import numpy as np\n",
    "\n",
    "wC=1.5\n",
    "wP=1\n",
    "\n",
    "#Right and left frequencies\n",
    "wR=(wC+np.sqrt(wC**2+4*wP**2))/2\n",
    "wL=(np.sqrt(wC**2+4*wP**2)-wC)/2\n",
    "\n",
    "\n",
    "omega_l=np.linspace(0.1,wC,512,endpoint=False)\n",
    "omega_r=np.linspace(5,wC,512,endpoint=False)[::-1]\n",
    "\n",
    "fig=plt.figure()\n",
    "ax=plt.gca()\n",
    "\n",
    "ax.plot(omega_l,ref_ind(wP,wC,omega_l), color='C0', linewidth=3)\n",
    "ax.plot(omega_r,ref_ind(wP,wC,omega_r), color='C0', linewidth=3)\n",
    "\n",
    "ax.plot(np.linspace(0.1,5),ref_ind(wP,wC,np.linspace(0.1,5),br=-1), color='C1', linewidth=3)\n",
    "\n",
    "ax.set_xticks([0,wL,wC,wR])\n",
    "ax.set_xticklabels([\"0\",\"$\\omega_l$\",\"$\\omega_c$\",\"$\\omega_R$\"],fontsize=16)\n",
    "ax.set_yticks([0,1])\n",
    "ax.set_yticklabels([\"0\",\"1\"],fontsize=16)\n",
    "ax.set_ylabel(\"$n^2$\",fontsize=16)\n",
    "ax.grid(c=\"k\",ls=\"--\")\n",
    "ax.set_xlim(0,3.5)\n",
    "ax.set_ylim(-4,6)\n",
    "ax.set_title(\"Refractive index\")"
   ]
  },
  {
   "cell_type": "markdown",
   "metadata": {},
   "source": [
    "For negative $n^2$ propagation is not possible. Hence, the $L$ wave has one cutoff at $\\omega_L$ and propagates as long as $\\omega>\\omega_L$. For the $R$ wave we have two propagation regions, $0<\\omega<\\omega_C$ and $\\omega>\\omega_R$. It has a cutoff at $\\omega_R$ and ressonates with the cyclotron motion of the electrons at $\\omega_C$. From this plot we see that the $R$ and $L$ waves propagate at different velocities. This leads to a dephasing between the two waves, which in turn leads to a rotation in the polarization plane as they propagate through the plasma."
   ]
  },
  {
   "cell_type": "markdown",
   "metadata": {},
   "source": [
    "## Simulations with ZPIC"
   ]
  },
  {
   "cell_type": "markdown",
   "metadata": {},
   "source": [
    "Below we will simulate waves propagating across magnetised plasmas in the conditions discussed in the *Theory* section. The external magnetic field points in the x-direction, $\\mathbf{B}_0=B_0\\mathbf{e}_x$. The length of the simulation box is 1500$c/\\omega_{p0}$ and it will run for a time $1100\\ 1/\\omega_{p0}$."
   ]
  },
  {
   "cell_type": "markdown",
   "metadata": {},
   "source": [
    "### First case: $\\omega=2.3\\omega_{p0}$ ; $\\omega_c=2.0\\omega_{p0}$"
   ]
  },
  {
   "cell_type": "markdown",
   "metadata": {
    "slideshow": {
     "slide_type": "-"
    }
   },
   "source": [
    "In this first case the plasma extends from $x=1000$ to $x=1150$ with a density $n_0$ corresponding to a plasma frequency $\\omega_{p0}$. We launch a laser with a frequency of $\\omega=2.3\\omega_{p0}$ moving in the positive x-direction and polarized with an electric field in the y-direction with peak value $E_{0}=0.023m_ec\\omega_{p0}/e$. The laser front is initially at $x=700c/\\omega_{p0}$. The amplitude of the external magnetic field corresponds to $\\omega_c=2.0\\omega_{p0}$.\n",
    "\n",
    "Run the next two cells to initialize and run the simulation."
   ]
  },
  {
   "cell_type": "code",
   "execution_count": null,
   "metadata": {
    "scrolled": true
   },
   "outputs": [],
   "source": [
    "import sys  \n",
    "sys.path.insert(0, '../source')\n",
    "\n",
    "import em1d\n",
    "import numpy as np\n",
    "\n",
    "# Time step\n",
    "dt = 0.0499\n",
    "tmax = 475.0\n",
    "\n",
    "# Simulation box\n",
    "nx  = 9500\n",
    "box = 475\n",
    "\n",
    "# Diagnostic frequency\n",
    "ndump = 20\n",
    "\n",
    "# Background plasma\n",
    "\n",
    "ppc = 20 # Particles per cell\n",
    "\n",
    "plasmastart=300.0\n",
    "plasmaend=450.0\n",
    "d_prof=em1d.Density( type = \"slab\", start = plasmastart, end = plasmaend)\n",
    "electrons = em1d.Species( \"electrons\", -1.0, ppc, uth=[0.005,0.005,0.005], density = d_prof)\n",
    "\n",
    "Ex=[]\n",
    "Ey=[]\n",
    "Ez=[]\n",
    "# Diagnostics\n",
    "def rep( sim ):\n",
    "    if ( sim.n % ndump == 0 ):\n",
    "        # All electric field components\n",
    "        Ex.append(np.array(sim.emf.Ex))\n",
    "        Ey.append(np.array(sim.emf.Ey))\n",
    "        Ez.append(np.array(sim.emf.Ez))\n",
    "        \n",
    "\n",
    "# Initialize simulation data\n",
    "sim = em1d.Simulation( nx, box, dt, species=(electrons), report = rep )\n",
    "\n",
    "# Select open boundary conditions\n",
    "sim.emf.bc_type = \"open\"\n",
    "\n",
    "# Add laser pulse\n",
    "w0 = 2.3\n",
    "las=em1d.Laser( start = 175.0, rise=12.5, flat=150, fall=12.5, a0 = 0.01, omega0 = w0, polarization = 0.0 )\n",
    "#las.omega0=w0\n",
    "sim.add_laser(las )\n",
    "\n",
    "\n",
    "B=[2.0, 0.0, 0]\n",
    "\n",
    "ext = em1d.ExternalField(B_type = 'uniform', B_0 = B)\n",
    "\n",
    "sim.emf.set_ext_fld( ext )"
   ]
  },
  {
   "cell_type": "code",
   "execution_count": null,
   "metadata": {},
   "outputs": [],
   "source": [
    "sim.run( tmax )"
   ]
  },
  {
   "cell_type": "markdown",
   "metadata": {},
   "source": [
    "Next we plot $E_y(t,x)$ and $E_z(t,x)$. Here the color represents the amplitude of the electric field."
   ]
  },
  {
   "cell_type": "code",
   "execution_count": null,
   "metadata": {},
   "outputs": [],
   "source": [
    "fig=plt.figure(figsize=(12,6))\n",
    "plt.rcParams.update({'font.size': 16})\n",
    "im=plt.imshow(np.transpose(Ex),extent=[0,tmax,0,box],vmin=-0.023,vmax=0.023,cmap=\"RdBu\",origin=\"lower\",aspect=\"auto\",interpolation=None)\n",
    "cbar=plt.colorbar(im)\n",
    "cbar.set_label(\"$E_z\\;[m_ec\\omega_{pe}/e]$\")\n",
    "plt.xlim(125,tmax)\n",
    "plt.xlabel(\"time $[1/\\omega_p]$\")\n",
    "plt.ylabel(\"$x_1\\;[c/\\omega_p]$\")\n",
    "plt.ylim(125,box)"
   ]
  },
  {
   "cell_type": "code",
   "execution_count": null,
   "metadata": {},
   "outputs": [],
   "source": [
    "fig=plt.figure(figsize=(12,6))\n",
    "plt.rcParams.update({'font.size': 16})\n",
    "im=plt.imshow(np.transpose(Ey),extent=[0,tmax,0,box],vmin=-0.023,vmax=0.023,cmap=\"RdBu\",origin=\"lower\",aspect=\"auto\",interpolation=None)\n",
    "cbar=plt.colorbar(im)\n",
    "cbar.set_label(\"$E_y\\;[m_ec\\omega_{pe}/e]$\")\n",
    "plt.xlim(125,tmax)\n",
    "plt.xlabel(\"time $[1/\\omega_p]$\")\n",
    "plt.ylabel(\"$x_1\\;[c/\\omega_p]$\")\n",
    "plt.ylim(125,box)"
   ]
  },
  {
   "cell_type": "markdown",
   "metadata": {},
   "source": [
    "* Can you explain the behaviour of the wave illustrated by these plots?"
   ]
  },
  {
   "cell_type": "markdown",
   "metadata": {},
   "source": [
    "Now we plot $E_y(t)$ and $E_z(t)$ at positions before the plasma ($x=740$) and after the plasma ($x=1300$)."
   ]
  },
  {
   "cell_type": "code",
   "execution_count": null,
   "metadata": {},
   "outputs": [],
   "source": [
    "x=np.linspace(0,box,nx)\n",
    "\n",
    "fig,(ax1,ax2,ax3,ax4)=plt.subplots(4,sharex=True,sharey=True,figsize=(10,6))\n",
    "ax1.plot(x,Ey[int(130/dt/ndump)])\n",
    "ax1.add_patch(plt.Rectangle((plasmastart,-0.05),plasmaend-plasmastart,0.1,hatch=\"\\\\\\\\\\\\\",fill=False,alpha=0.5))\n",
    "ax1.set_title(\" t=130 $c/\\omega_p$\",loc=\"left\",pad=-15,fontsize=14)\n",
    "ax1.set_ylabel(\"$E_y$\",rotation=0)\n",
    "\n",
    "ax2.plot(x,Ez[int(130/dt/ndump)],c=\"C1\")\n",
    "ax2.add_patch(plt.Rectangle((plasmastart,-0.05),plasmaend-plasmastart,0.1,hatch=\"\\\\\\\\\\\\\",fill=False,alpha=0.5))\n",
    "ax2.set_title(\" t=130 $c/\\omega_p$\",loc=\"left\",pad=-15,fontsize=14)\n",
    "ax2.set_ylabel(\"$E_z$\",rotation=0)\n",
    "\n",
    "ax3.plot(x,Ey[int(350/dt/ndump)])\n",
    "ax3.add_patch(plt.Rectangle((plasmastart,-0.05),plasmaend-plasmastart,0.1,hatch=\"\\\\\\\\\\\\\",fill=False,alpha=0.5))\n",
    "ax3.set_title(\" t=350 $c/\\omega_p$\",loc=\"left\",pad=-15,fontsize=14)\n",
    "ax3.set_ylabel(\"$E_y$\",rotation=0)\n",
    "\n",
    "ax4.plot(x,Ez[int(350/dt/ndump)],c=\"C1\")\n",
    "ax4.add_patch(plt.Rectangle((plasmastart,-0.05),plasmaend-plasmastart,0.1,hatch=\"\\\\\\\\\\\\\",fill=False,alpha=0.5))\n",
    "ax4.set_title(\" t=350 $c/\\omega_p$\",loc=\"left\",pad=-15,fontsize=14)\n",
    "ax4.set_ylabel(\"$E_z$\",rotation=0)\n",
    "\n",
    "ax4.set_ylim([-0.05,0.05])\n",
    "ax4.set_xlim([100,box])\n",
    "ax4.set_yticks([-0.03,0,0.03])\n",
    "ax4.set_xlabel(\"x [$c/\\omega_p$]\")"
   ]
  },
  {
   "cell_type": "markdown",
   "metadata": {},
   "source": [
    "* Can you explain these plots?"
   ]
  },
  {
   "cell_type": "markdown",
   "metadata": {},
   "source": [
    "Finally, we look at the polarization of the electric field by plotting with dots the electric field in different times in the $E_y$ vs. $E_z$ plane. The different colors represent the electric field at three different positions: before the plasma, $x=740$ (blue); inside the plasma, $x=1075$ (red); and after the plasma, $x=1300$ (green)."
   ]
  },
  {
   "cell_type": "code",
   "execution_count": null,
   "metadata": {},
   "outputs": [],
   "source": [
    "e2plotx502 = np.transpose(Ey)[int(185.0*nx/box)][:int(195/dt/ndump)]\n",
    "e3plotx502 = np.transpose(Ez)[int(185.0*nx/box)][:int(195/dt/ndump)]\n",
    "e2plotx548 = np.transpose(Ey)[int(315*nx/box)]\n",
    "e3plotx548 = np.transpose(Ez)[int(315*nx/box)]\n",
    "e2plotx596 = np.transpose(Ey)[int(470*nx/box)]\n",
    "e3plotx596 = np.transpose(Ez)[int(470*nx/box)]\n",
    "\n",
    "plt.figure(1,figsize=(8,6))\n",
    "plt.scatter(e2plotx502,e3plotx502,c='b',label='before the plasma at x1=185',s=2)\n",
    "plt.scatter(e2plotx548,e3plotx548,c='r',label='inside the plasmat at x1=268',s=2)\n",
    "plt.scatter(e2plotx596,e3plotx596,c='g',label='after the plasma at x1=325',s=2)\n",
    "\n",
    "plt.xlim=(-0.02,0.02)\n",
    "plt.ylim=(-0.02,0.02)\n",
    "plt.xticks(np.arange(-0.02,0.021,0.01))\n",
    "plt.yticks(np.arange(-0.02,0.021,0.01))\n",
    "\n",
    "plt.xlabel(r'$\\sf{E_y}$',fontsize=18)\n",
    "plt.ylabel(r'$\\sf{E_z}$',fontsize=18)\n",
    "plt.legend(fontsize=14)\n",
    "plt.title(r'$\\sf{E_y\\ vs\\ E_z}$',fontsize=20)\n",
    "plt.axes().set_aspect('equal')"
   ]
  },
  {
   "cell_type": "markdown",
   "metadata": {},
   "source": [
    "* Can you explain this polarization signature?"
   ]
  },
  {
   "cell_type": "markdown",
   "metadata": {},
   "source": [
    "### Second case: $\\omega=5.0\\omega_{p0}$ ; $\\omega_c=0.5\\omega_{p0}$"
   ]
  },
  {
   "cell_type": "markdown",
   "metadata": {
    "slideshow": {
     "slide_type": "-"
    }
   },
   "source": [
    "In the second case the plasma extends from $x=1000$ to $x=1150$ with a density $n_0$ corresponding to a plasma frequency $\\omega_{p0}$. We launch a laser with a frequency of $\\omega=5.0\\omega_{p0}$ moving in the positive x-direction and polarized with an electric field in the y-direction with peak value $E_{0}=0.05m_ec\\omega_{p0}/e$. The laser front is initially at $x=700c/\\omega_{p0}$. The amplitude of the external magnetic field corresponds to $\\omega_c=0.5\\omega_{p0}$.\n",
    "\n",
    "Run the next two cells to initialize and run the simulation."
   ]
  },
  {
   "cell_type": "code",
   "execution_count": null,
   "metadata": {
    "scrolled": true
   },
   "outputs": [],
   "source": [
    "d_prof=em1d.Density( type = \"slab\", start = plasmastart, end = plasmaend)\n",
    "electrons = em1d.Species( \"electrons\", -1.0, ppc, uth=[0.005,0.005,0.005], density = d_prof)\n",
    "\n",
    "Ex=[]\n",
    "Ey=[]\n",
    "Ez=[]\n",
    "# Diagnostics\n",
    "def rep( sim ):\n",
    "    if ( sim.n % ndump == 0 ):\n",
    "        \n",
    "        # All electric field components\n",
    "        Ex.append(np.array(sim.emf.Ex))\n",
    "        Ey.append(np.array(sim.emf.Ey))\n",
    "        Ez.append(np.array(sim.emf.Ez))\n",
    "        \n",
    "\n",
    "# Initialize simulation data\n",
    "sim = em1d.Simulation( nx, box, dt, species=(electrons), report = rep )\n",
    "\n",
    "# Select open boundary conditions\n",
    "sim.emf.bc_type = \"open\"\n",
    "\n",
    "# Add laser pulse\n",
    "w0 = 5\n",
    "#sim.add_laser( em1d.Laser( start = 700.0, rise=50, flat=600, fall=50, a0 = 0.01, omega0 = w0, polarization = 0.0 ))\n",
    "sim.add_laser( em1d.Laser( start = 175.0, rise=12.5, flat=150, fall=12.5, a0 = 0.01, omega0 = w0, polarization = 0.0 ))\n",
    "B=[0.5, 0.0, 0.0]\n",
    "ext = em1d.ExternalField(B_type = 'uniform', B_0 = B)\n",
    "\n",
    "sim.emf.set_ext_fld( ext )"
   ]
  },
  {
   "cell_type": "code",
   "execution_count": null,
   "metadata": {},
   "outputs": [],
   "source": [
    "sim.run( tmax )"
   ]
  },
  {
   "cell_type": "markdown",
   "metadata": {},
   "source": [
    "Once again, we plot $E_y(t,x)$ and $E_z(t,x)$."
   ]
  },
  {
   "cell_type": "code",
   "execution_count": null,
   "metadata": {},
   "outputs": [],
   "source": [
    "import matplotlib.pyplot as plt\n",
    "fig=plt.figure(figsize=(12,6))\n",
    "plt.rcParams.update({'font.size': 16})\n",
    "im=plt.imshow(np.transpose(Ez),extent=[0,tmax,0,box],cmap=\"RdBu\",origin=\"lower\",aspect=\"auto\",interpolation=None)\n",
    "cbar=plt.colorbar(im)\n",
    "ax=plt.gca()\n",
    "cbar.set_label(\"$E_z\\;[m_ec\\omega_{pe}/e]$\")\n",
    "ax.set_xlim(130,375)\n",
    "ax.set_xlabel(\"time $[1/\\omega_p]$\")\n",
    "ax.set_ylabel(\"$x_1\\;[c/\\omega_p]$\")\n",
    "ax.set_ylim(270,475)"
   ]
  },
  {
   "cell_type": "code",
   "execution_count": null,
   "metadata": {},
   "outputs": [],
   "source": [
    "fig=plt.figure(figsize=(12,6))\n",
    "plt.rcParams.update({'font.size': 16})\n",
    "ax=plt.gca()\n",
    "im=plt.imshow(np.transpose(Ey),extent=[0,tmax,0,box],cmap=\"RdBu\",origin=\"lower\",aspect=\"auto\",interpolation=None)\n",
    "cbar=plt.colorbar(im)\n",
    "cbar.set_label(\"$E_y\\;[m_ec\\omega_{pe}/e]$\")\n",
    "ax.set_xlim(130,375)\n",
    "ax.set_xlabel(\"time $[1/\\omega_p]$\")\n",
    "ax.set_ylabel(\"$x_1\\;[c/\\omega_p]$\")\n",
    "ax.set_ylim(250,475)"
   ]
  },
  {
   "cell_type": "markdown",
   "metadata": {},
   "source": [
    "* Can you explain the behaviour of the wave illustrated by these plots?\n",
    "* Why is the behaviour different when compared to the first case?"
   ]
  },
  {
   "cell_type": "markdown",
   "metadata": {},
   "source": [
    "Now we plot $E_y(t)$ and $E_z(t)$ at positions before the plasma ($x=740$) and after the plasma ($x=1300$)."
   ]
  },
  {
   "cell_type": "code",
   "execution_count": null,
   "metadata": {},
   "outputs": [],
   "source": [
    "x=np.linspace(0,box,nx)\n",
    "\n",
    "fig,(ax1,ax2,ax3,ax4)=plt.subplots(4,sharex=True,sharey=True,figsize=(10,6))\n",
    "ax1.plot(x,Ey[int(130/dt/ndump)])\n",
    "ax1.add_patch(plt.Rectangle((plasmastart,-0.05),plasmaend-plasmastart,0.1,hatch=\"\\\\\\\\\\\\\",fill=False))\n",
    "ax1.set_title(\" t=130 $c/\\omega_p$\",loc=\"left\",pad=-15,fontsize=14)\n",
    "ax1.set_ylabel(\"$E_y$\",rotation=0)\n",
    "\n",
    "ax2.plot(x,Ez[int(130/dt/ndump)],c=\"C1\")\n",
    "ax2.add_patch(plt.Rectangle((plasmastart,-0.06),plasmaend-plasmastart,0.12,hatch=\"\\\\\\\\\\\\\",fill=False))\n",
    "ax2.set_title(\" t=130 $c/\\omega_p$\",loc=\"left\",pad=-15,fontsize=14)\n",
    "ax2.set_ylabel(\"$E_z$\",rotation=0)\n",
    "\n",
    "ax3.plot(x,Ey[int(300/dt/ndump)])\n",
    "ax3.add_patch(plt.Rectangle((plasmastart,-0.06),plasmaend-plasmastart,0.12,hatch=\"\\\\\\\\\\\\\",fill=False))\n",
    "ax3.set_title(\" t=300 $c/\\omega_p$\",loc=\"left\",pad=-15,fontsize=14)\n",
    "ax3.set_ylabel(\"$E_y$\",rotation=0)\n",
    "\n",
    "ax4.plot(x,Ez[int(300/dt/ndump)],c=\"C1\")\n",
    "ax4.add_patch(plt.Rectangle((plasmastart,-0.06),plasmaend-plasmastart,0.12,hatch=\"\\\\\\\\\\\\\",fill=False))\n",
    "ax4.set_title(\" t=300 $c/\\omega_p$\",loc=\"left\",pad=-15,fontsize=14)\n",
    "ax4.set_ylabel(\"$E_z$\",rotation=0)\n",
    "\n",
    "ax4.set_ylim([-0.06,0.06])\n",
    "ax4.set_xlim([100,475])\n",
    "ax4.set_yticks([-0.025,0,0.025])\n",
    "ax4.set_xlabel(\"x [$c/\\omega_p$]\")"
   ]
  },
  {
   "cell_type": "markdown",
   "metadata": {},
   "source": [
    "* Can you explain these plots?\n",
    "* What are the differences between this case and the previous one?"
   ]
  },
  {
   "cell_type": "markdown",
   "metadata": {},
   "source": [
    "Finally, we look at the polarization of the electric field by plotting with dots the electric field in different times in the $E_y$ vs. $E_z$ plane. The different colors represent the electric field at three different positions: before the plasma, $x=740$ (blue); inside the plasma, $x=1075$ (red); and after the plasma, $x=1300$ (green)."
   ]
  },
  {
   "cell_type": "code",
   "execution_count": null,
   "metadata": {},
   "outputs": [],
   "source": [
    "e2plotx502 = np.transpose(Ey)[int(185.0*nx/box)][:int(195/dt/ndump)]\n",
    "e3plotx502 = np.transpose(Ez)[int(185.0*nx/box)][:int(195/dt/ndump)]\n",
    "e2plotx548 = np.transpose(Ey)[int(315*nx/box)]\n",
    "e3plotx548 = np.transpose(Ez)[int(315*nx/box)]\n",
    "e2plotx596 = np.transpose(Ey)[int(460*nx/box)]\n",
    "e3plotx596 = np.transpose(Ez)[int(460*nx/box)]\n",
    "\n",
    "plt.figure(1,figsize=(8,6))\n",
    "plt.scatter(e2plotx502,e3plotx502,c='b',label='before the plasma at x1=185',s=2)\n",
    "plt.scatter(e2plotx548,e3plotx548,c='r',label='inside the plasmat at x1=315',s=2)\n",
    "plt.scatter(e2plotx596,e3plotx596,c='g',label='after the plasma at x1=460',s=2)\n",
    "\n",
    "plt.xlim=(-0.02,0.02)\n",
    "plt.ylim=(-0.02,0.02)\n",
    "plt.xticks(np.arange(-0.05,0.051,0.02))\n",
    "plt.yticks(np.arange(-0.05,0.051,0.02))\n",
    "\n",
    "plt.xlabel(r'$\\sf{E_y}$',fontsize=18)\n",
    "plt.ylabel(r'$\\sf{E_z}$',fontsize=18)\n",
    "plt.legend(fontsize=14)\n",
    "plt.title(r'$\\sf{E_y\\ vs\\ E_z}$',fontsize=20)"
   ]
  },
  {
   "cell_type": "markdown",
   "metadata": {},
   "source": [
    "* Can you explain this polarization signature?\n",
    "* What is the rotation in the polarization?"
   ]
  },
  {
   "cell_type": "markdown",
   "metadata": {},
   "source": [
    "### Third case: $\\omega=2.97\\omega_{p0}$ ; $\\omega_c=0.5\\omega_{p0}$"
   ]
  },
  {
   "cell_type": "markdown",
   "metadata": {
    "slideshow": {
     "slide_type": "-"
    }
   },
   "source": [
    "In the second case the plasma extends from $x=1000$ to $x=1150$ with a density $n_0$ corresponding to a plasma frequency $\\omega_{p0}$. We launch a laser with a frequency of $\\omega=2.97\\omega_{p0}$ moving in the positive x-direction and polarized with an electric field in the y-direction with peak value $E_{0}=0.0297m_ec\\omega_{p0}/e$. The laser front is initially at $x=700c/\\omega_{p0}$. The amplitude of the external magnetic field corresponds to $\\omega_c=0.5\\omega_{p0}$.\n",
    "\n",
    "Run the next two cells to initialize and run the simulation."
   ]
  },
  {
   "cell_type": "code",
   "execution_count": null,
   "metadata": {
    "scrolled": true
   },
   "outputs": [],
   "source": [
    "d_prof=em1d.Density( type = \"slab\", start = plasmastart, end = plasmaend)\n",
    "electrons = em1d.Species( \"electrons\", -1.0, ppc, uth=[0.005,0.005,0.005], density = d_prof)\n",
    "\n",
    "Ex=[]\n",
    "Ey=[]\n",
    "Ez=[]\n",
    "# Diagnostics\n",
    "def rep( sim ):\n",
    "    if ( sim.n % ndump == 0 ):\n",
    "        \n",
    "        # All electric field components\n",
    "        Ex.append(np.array(sim.emf.Ex))\n",
    "        Ey.append(np.array(sim.emf.Ey))\n",
    "        Ez.append(np.array(sim.emf.Ez))\n",
    "        \n",
    "\n",
    "# Initialize simulation data\n",
    "sim = em1d.Simulation( nx, box, dt, species=(electrons), report = rep )\n",
    "\n",
    "# Select open boundary conditions\n",
    "sim.emf.bc_type = \"open\"\n",
    "\n",
    "# Add laser pulse\n",
    "w0 = 2.97\n",
    "#sim.add_laser( em1d.Laser( start = 700.0, rise=50, flat=600, fall=50, a0 = 0.01, omega0 = w0, polarization = 0.0 ))\n",
    "sim.add_laser( em1d.Laser( start = 175.0, rise=12.5, flat=150, fall=12.5, a0 = 0.01, omega0 = w0, polarization = 0.0 ))\n",
    "B=[0.5, 0.0, 0.0]\n",
    "ext = em1d.ExternalField(B_type = 'uniform', B_0 = B)\n",
    "\n",
    "sim.emf.set_ext_fld( ext )"
   ]
  },
  {
   "cell_type": "code",
   "execution_count": null,
   "metadata": {},
   "outputs": [],
   "source": [
    "sim.run( tmax )"
   ]
  },
  {
   "cell_type": "markdown",
   "metadata": {},
   "source": [
    "Once again, we plot $E_y(t,x)$ and $E_z(t,x)$."
   ]
  },
  {
   "cell_type": "code",
   "execution_count": null,
   "metadata": {},
   "outputs": [],
   "source": [
    "import matplotlib.pyplot as plt\n",
    "fig=plt.figure(figsize=(12,6))\n",
    "plt.rcParams.update({'font.size': 16})\n",
    "im=plt.imshow(np.transpose(Ez),extent=[0,tmax,0,box],cmap=\"RdBu\",origin=\"lower\",aspect=\"auto\",interpolation=None)\n",
    "cbar=plt.colorbar(im)\n",
    "ax=plt.gca()\n",
    "cbar.set_label(\"$E_z\\;[m_ec\\omega_{pe}/e]$\")\n",
    "ax.set_xlim(250,tmax)\n",
    "ax.set_xlabel(\"time $[1/\\omega_p]$\")\n",
    "ax.set_ylabel(\"$x_1\\;[c/\\omega_p]$\")\n",
    "ax.set_ylim(250,box)"
   ]
  },
  {
   "cell_type": "code",
   "execution_count": null,
   "metadata": {},
   "outputs": [],
   "source": [
    "fig=plt.figure(figsize=(12,6))\n",
    "plt.rcParams.update({'font.size': 16})\n",
    "ax=plt.gca()\n",
    "im=plt.imshow(np.transpose(Ey),extent=[0,tmax,0,box],cmap=\"RdBu\",origin=\"lower\",aspect=\"auto\",interpolation=None)\n",
    "cbar=plt.colorbar(im)\n",
    "cbar.set_label(\"$E_y\\;[m_ec\\omega_{pe}/e]$\")\n",
    "ax.set_xlim(250,tmax)\n",
    "ax.set_xlabel(\"time $[1/\\omega_p]$\")\n",
    "ax.set_ylabel(\"$x_1\\;[c/\\omega_p]$\")\n",
    "ax.set_ylim(250,box)"
   ]
  },
  {
   "cell_type": "markdown",
   "metadata": {},
   "source": [
    "* Can you explain the behaviour of the wave illustrated by these plots?\n",
    "* What is different when compared to the second case?"
   ]
  },
  {
   "cell_type": "markdown",
   "metadata": {},
   "source": [
    "Now we plot $E_y(t)$ and $E_z(t)$ at positions before the plasma ($x=740$) and after the plasma ($x=1300$)."
   ]
  },
  {
   "cell_type": "code",
   "execution_count": null,
   "metadata": {},
   "outputs": [],
   "source": [
    "x=np.linspace(0,box,nx)\n",
    "\n",
    "fig,(ax1,ax2,ax3,ax4)=plt.subplots(4,sharex=True,sharey=True,figsize=(10,6))\n",
    "ax1.plot(x,Ey[int(130/dt/ndump)])\n",
    "ax1.add_patch(plt.Rectangle((plasmastart,-0.03),plasmaend-plasmastart,0.06,hatch=\"\\\\\\\\\\\\\",fill=False))\n",
    "ax1.set_title(\" t=130 $c/\\omega_p$\",loc=\"left\",pad=-15,fontsize=14)\n",
    "ax1.set_ylabel(\"$E_y$\",rotation=0)\n",
    "\n",
    "ax2.plot(x,Ez[int(130/dt/ndump)],c=\"C1\")\n",
    "ax2.add_patch(plt.Rectangle((plasmastart,-0.03),plasmaend-plasmastart,0.06,hatch=\"\\\\\\\\\\\\\",fill=False))\n",
    "ax2.set_title(\" t=300 $c/\\omega_p$\",loc=\"left\",pad=-15,fontsize=14)\n",
    "ax2.set_ylabel(\"$E_z$\",rotation=0)\n",
    "\n",
    "ax3.plot(x,Ey[int(300/dt/ndump)])\n",
    "ax3.add_patch(plt.Rectangle((plasmastart,-0.03),plasmaend-plasmastart,0.06,hatch=\"\\\\\\\\\\\\\",fill=False))\n",
    "ax3.set_title(\" t=300 $c/\\omega_p$\",loc=\"left\",pad=-15,fontsize=14)\n",
    "ax3.set_ylabel(\"$E_y$\",rotation=0)\n",
    "\n",
    "ax4.plot(x,Ez[int(300/dt/ndump)],c=\"C1\")\n",
    "ax4.add_patch(plt.Rectangle((plasmastart,-0.03),plasmaend-plasmastart,0.06,hatch=\"\\\\\\\\\\\\\",fill=False))\n",
    "ax4.set_title(\" t=300 $c/\\omega_p$\",loc=\"left\",pad=-15,fontsize=14)\n",
    "ax4.set_ylabel(\"$E_z$\",rotation=0)\n",
    "\n",
    "ax4.set_ylim([-0.03,0.03])\n",
    "ax4.set_xlim([100,box])\n",
    "ax4.set_yticks([-0.03,0,0.03])\n",
    "ax4.set_xlabel(\"x [$c/\\omega_p$]\")"
   ]
  },
  {
   "cell_type": "markdown",
   "metadata": {},
   "source": [
    "* Can you explain these plots?"
   ]
  },
  {
   "cell_type": "markdown",
   "metadata": {},
   "source": [
    "Finally, we look at the polarization of the electric field by plotting with dots the electric field in different times in the $E_y$ vs. $E_z$ plane. The different colors represent the electric field at three different positions: before the plasma, $x=740$ (blue); inside the plasma, $x=1075$ (red); and after the plasma, $x=1300$ (green)."
   ]
  },
  {
   "cell_type": "code",
   "execution_count": null,
   "metadata": {},
   "outputs": [],
   "source": [
    "e2plotx502 = np.transpose(Ey)[int(185.0*nx/box)][:int(195/dt/ndump)]\n",
    "e3plotx502 = np.transpose(Ez)[int(185.0*nx/box)][:int(195/dt/ndump)]\n",
    "e2plotx548 = np.transpose(Ey)[int(315*nx/box)]\n",
    "e3plotx548 = np.transpose(Ez)[int(315*nx/box)]\n",
    "e2plotx596 = np.transpose(Ey)[int(460*nx/box)]\n",
    "e3plotx596 = np.transpose(Ez)[int(460*nx/box)]\n",
    "\n",
    "plt.figure(1,figsize=(8,6))\n",
    "plt.scatter(e2plotx502,e3plotx502,c='b',label='before the plasma at x1=185',s=2)\n",
    "plt.scatter(e2plotx548,e3plotx548,c='r',label='inside the plasmat at x1=315',s=2)\n",
    "plt.scatter(e2plotx596,e3plotx596,c='g',label='after the plasma at x1=460',s=2)\n",
    "\n",
    "plt.xlim=(-0.02,0.02)\n",
    "plt.ylim=(-0.02,0.02)\n",
    "plt.xticks(np.arange(-0.02,0.021,0.01))\n",
    "plt.yticks(np.arange(-0.02,0.021,0.01))\n",
    "\n",
    "plt.xlabel(r'$\\sf{E_y}$',fontsize=18)\n",
    "plt.ylabel(r'$\\sf{E_z}$',fontsize=18)\n",
    "plt.legend(fontsize=14)\n",
    "plt.title(r'$\\sf{E_y\\ vs\\ E_z}$',fontsize=20)"
   ]
  },
  {
   "cell_type": "markdown",
   "metadata": {},
   "source": [
    "* Can you explain this polarization signature?\n",
    "* What is the rotation in the polarization? How can you tell?"
   ]
  }
 ],
 "metadata": {
  "kernelspec": {
   "display_name": "Python 3",
   "language": "python",
   "name": "python3"
  },
  "language_info": {
   "codemirror_mode": {
    "name": "ipython",
    "version": 3
   },
   "file_extension": ".py",
   "mimetype": "text/x-python",
   "name": "python",
   "nbconvert_exporter": "python",
   "pygments_lexer": "ipython3",
   "version": "3.9.1"
  }
 },
 "nbformat": 4,
 "nbformat_minor": 2
}
