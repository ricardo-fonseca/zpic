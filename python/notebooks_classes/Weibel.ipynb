{
 "cells": [
  {
   "cell_type": "markdown",
   "metadata": {},
   "source": [
    "# Weibel instability\n"
   ]
  },
  {
   "cell_type": "markdown",
   "metadata": {},
   "source": [
    "This notebook shows a demonstration of the Weibel (electromagnetic filamentation) instability in the collision of neutral electron/positron plasma clouds. In this example we collide two neutral electron / positron plasma clouds, moving out of the simulation plane with opposing generalized velocities of $u_3 = \\pm 0.6 \\mathrm{c}$. All simulation species have the same thermal velocity $u_{th} = 0.1 \\mathrm{c}$ in all directions."
   ]
  },
  {
   "cell_type": "code",
   "execution_count": null,
   "metadata": {
    "scrolled": true
   },
   "outputs": [],
   "source": [
    "import sys  \n",
    "sys.path.insert(0, '../source')\n",
    "import em2d as zpic\n",
    "\n",
    "eup = zpic.Species( \"electrons up\", -1.0, ppc = [2,2],\n",
    "                          ufl = [0.0,0.0,0.6], uth = [0.1,0.1,0.1] )\n",
    "pup = zpic.Species( \"positrons up\", +1.0, ppc = [2,2], \n",
    "                          ufl = [0.0,0.0,0.6], uth = [0.1,0.1,0.1] )\n",
    "edown = zpic.Species( \"electrons down\", -1.0, ppc = [2,2],\n",
    "                          ufl = [0.0,0.0,-0.6], uth = [0.1,0.1,0.1] )\n",
    "pdown = zpic.Species( \"positrons down\", +1.0, ppc = [2,2], \n",
    "                          ufl = [0.0,0.0,-0.6], uth = [0.1,0.1,0.1] )\n",
    "\n",
    "dt = 0.07\n",
    "\n",
    "sim = zpic.Simulation( nx = [128,128], box = [12.8,12.8], dt = dt, \n",
    "                       species = [eup,pup,edown,pdown] )\n"
   ]
  },
  {
   "cell_type": "markdown",
   "metadata": {},
   "source": [
    "We want to look at the energy evolution, so we run a customized loop to store field energy at every iteration:"
   ]
  },
  {
   "cell_type": "code",
   "execution_count": null,
   "metadata": {},
   "outputs": [],
   "source": [
    "import numpy as np\n",
    "\n",
    "tmax = 15\n",
    "\n",
    "niter = int(tmax / dt) + 1\n",
    "\n",
    "Bperp = np.zeros(niter)\n",
    "norm = 0.5 * sim.emf.nx[0] * sim.emf.nx[1]\n",
    "\n",
    "print(\"\\nRunning simulation up to t = {:g} ...\".format(tmax))\n",
    "while sim.t < tmax:\n",
    "    print('n = {:d}, t = {:g}'.format(sim.n,sim.t), end = '\\r')\n",
    "    \n",
    "    # Get energy in perpendicular B field components\n",
    "    Bperp[sim.n] = np.sum(sim.emf.Bx**2+sim.emf.By**2) * norm\n",
    "    sim.iter()\n",
    "\n",
    "print(\"\\nDone.\")\n"
   ]
  },
  {
   "cell_type": "markdown",
   "metadata": {},
   "source": [
    "## Current filamentation\n",
    "\n",
    "The Weibel instability will lead to current filamentation, as shown below:"
   ]
  },
  {
   "cell_type": "code",
   "execution_count": null,
   "metadata": {},
   "outputs": [],
   "source": [
    "import matplotlib.pyplot as plt\n",
    "\n",
    "J3 = sim.current.Jz\n",
    "\n",
    "range = [[0,sim.box[0]],[0,sim.box[1]]]\n",
    "\n",
    "\n",
    "plt.imshow( J3, interpolation = 'bilinear', origin = 'lower',\n",
    "          extent = ( range[0][0], range[0][1], range[1][0], range[1][1] ),\n",
    "          aspect = 'auto', cmap = 'Spectral',clim = (-1.6,1.6))\n",
    "\n",
    "plt.colorbar().set_label('Electric Current')\n",
    "plt.xlabel(\"$x_1$\")\n",
    "plt.ylabel(\"$x_2$\")\n",
    "plt.title(\"Electric Current\\nt = {:g}\".format(sim.t))\n",
    "\n",
    "plt.show()"
   ]
  },
  {
   "cell_type": "markdown",
   "metadata": {},
   "source": [
    "## Evolution of magnetic field energy\n",
    "\n",
    "The instability will cause a transfer of energy betweem the kinetica energy in the particles and the transverse magnetic field. For this simulaiton, the instability saturates around $t \\simeq 8 \\,\\, \\omega_n^{-1}$:"
   ]
  },
  {
   "cell_type": "code",
   "execution_count": null,
   "metadata": {},
   "outputs": [],
   "source": [
    "import matplotlib.pyplot as plt\n",
    "\n",
    "plt.plot(np.linspace(0, sim.t, num = sim.n),Bperp)\n",
    "plt.yscale('log')\n",
    "plt.ylim(ymin=1e4)\n",
    "plt.grid(True)\n",
    "plt.xlabel(\"$t$ [$1/\\omega_n$]\")\n",
    "plt.ylabel(\"$B_{\\perp}$ energy [$m_e c^2$]\")\n",
    "plt.title(\"Magnetic field energy\")\n",
    "plt.show()"
   ]
  },
  {
   "cell_type": "markdown",
   "metadata": {},
   "source": [
    "## Magnetic Field structure\n",
    "\n",
    "The plots below show the structure of the magnetic field at the end of the simulation. The magnetic field structres act as a buffer separating regions of opposite electric current:"
   ]
  },
  {
   "cell_type": "code",
   "execution_count": null,
   "metadata": {},
   "outputs": [],
   "source": [
    "import matplotlib.pyplot as plt\n",
    "import numpy as np\n",
    "\n",
    "Bperp = np.sqrt( sim.emf.Bx**2 + sim.emf.By**2 )\n",
    "\n",
    "range = [[0,sim.box[0]],[0,sim.box[1]]]\n",
    "\n",
    "plt.imshow( Bperp, interpolation = 'bilinear', origin = 'lower',\n",
    "          extent = ( range[0][0], range[0][1], range[1][0], range[1][1] ),\n",
    "          aspect = 'auto', cmap = 'jet')\n",
    "\n",
    "plt.colorbar().set_label('Magnetic Field')\n",
    "plt.xlabel(\"$x_1$\")\n",
    "plt.ylabel(\"$x_2$\")\n",
    "plt.title(\"Magnetic Field\\nt = {:g}\".format(sim.t))\n",
    "\n",
    "plt.show()"
   ]
  },
  {
   "cell_type": "code",
   "execution_count": null,
   "metadata": {},
   "outputs": [],
   "source": [
    "y,x = np.mgrid[ 0:sim.nx[1],0:sim.nx[0] ]\n",
    "y = y*(sim.box[1]/sim.nx[1])\n",
    "x = x*(sim.box[0]/sim.nx[0])\n",
    "\n",
    "plt.streamplot( x,y,sim.emf.Bx, sim.emf.By, linewidth = 1.0, density = 1.5, \n",
    "               color = Bperp, cmap = 'viridis' )\n",
    "\n",
    "plt.colorbar().set_label('Magnetic Field')\n",
    "plt.xlabel(\"$x_1$\")\n",
    "plt.ylabel(\"$x_2$\")\n",
    "plt.title(\"Magnetic Field\\nt = {:g}\".format(sim.t))\n",
    "\n",
    "plt.show()"
   ]
  },
  {
   "cell_type": "markdown",
   "metadata": {},
   "source": [
    "## Charge Density\n",
    "\n",
    "We present the charge density for both the up moving (defined as positive / red) and down moving (defined as negative / blue) positron species. This is made possible by the fact that these do not overlap."
   ]
  },
  {
   "cell_type": "code",
   "execution_count": null,
   "metadata": {},
   "outputs": [],
   "source": [
    "import matplotlib.pyplot as plt\n",
    "\n",
    "\n",
    "range = [[0,sim.box[0]],[0,sim.box[1]]]\n",
    "\n",
    "plt.imshow( pup.charge() - pdown.charge(), interpolation = 'bilinear', origin = 'lower',\n",
    "          extent = ( range[0][0], range[0][1], range[1][0], range[1][1] ),\n",
    "          aspect = 'auto', cmap = 'seismic',clim = (-8.6,8.6))\n",
    "\n",
    "plt.colorbar().set_label('Density')\n",
    "\n",
    "plt.xlabel(\"$x_1$\")\n",
    "plt.ylabel(\"$x_2$\")\n",
    "plt.title(\"Positron density\\nt = {:g}\".format(sim.t))\n",
    "\n",
    "plt.show()"
   ]
  },
  {
   "cell_type": "code",
   "execution_count": null,
   "metadata": {},
   "outputs": [],
   "source": []
  }
 ],
 "metadata": {
  "kernelspec": {
   "display_name": "Python 3",
   "language": "python",
   "name": "python3"
  },
  "language_info": {
   "codemirror_mode": {
    "name": "ipython",
    "version": 3
   },
   "file_extension": ".py",
   "mimetype": "text/x-python",
   "name": "python",
   "nbconvert_exporter": "python",
   "pygments_lexer": "ipython3",
   "version": "3.9.1"
  }
 },
 "nbformat": 4,
 "nbformat_minor": 2
}
