{
 "cells": [
  {
   "cell_type": "markdown",
   "metadata": {},
   "source": [
    "# Two-stream instability\n",
    "\n",
    "1D simulation of the Two-Stream instability using an eletromagnetic code with a spectral (pseudo-spectral analytic time domain) code."
   ]
  },
  {
   "cell_type": "code",
   "execution_count": null,
   "metadata": {},
   "outputs": [],
   "source": [
    "import sys  \n",
    "sys.path.insert(0, '../source')\n",
    "import em1ds as zpic\n",
    "import numpy as np\n",
    "\n",
    "nx = 120\n",
    "dt = 0.1\n",
    "\n",
    "ppc = 500\n",
    "ufl = [0.2,    0.0,  0.0]\n",
    "uth = [0.001,0.001,0.001]\n",
    "\n",
    "right = zpic.Species( \"right\", -1.0, ppc, ufl = ufl, uth = uth )\n",
    "\n",
    "ufl[0] = -ufl[0]\n",
    "left  = zpic.Species( \"left\", -1.0, ppc, ufl = ufl, uth = uth )\n",
    "\n",
    "sim = zpic.Simulation( nx, box = 4 * np.pi, dt = dt, species = [right,left] )\n",
    "sim.emf.solver_type = \"PSATD\""
   ]
  },
  {
   "cell_type": "markdown",
   "metadata": {},
   "source": [
    "## Running the simulation\n",
    "\n",
    "We will be running the simulation well beyond the saturation of the instability (for the default parameters this happens around $t = 20 \\, \\omega_n^{-1}$). We will be recording the longitudinal component of the electric field for later analysis. "
   ]
  },
  {
   "cell_type": "code",
   "execution_count": null,
   "metadata": {},
   "outputs": [],
   "source": [
    "tmax = 60\n",
    "\n",
    "niter = int(tmax / dt)\n",
    "\n",
    "Ex_t = np.zeros((nx,niter))\n",
    "\n",
    "print(\"\\nRunning simulation up to t = {:g} ...\".format(tmax))\n",
    "while sim.t < tmax:\n",
    "    print('n = {:d}, t = {:g}'.format(sim.n,sim.t), end = '\\r')\n",
    "    Ex_t[:,sim.n] = sim.emf.Ex\n",
    "    sim.iter()\n",
    "\n",
    "print(\"\\nDone.\")"
   ]
  },
  {
   "cell_type": "markdown",
   "metadata": {},
   "source": [
    "## Time evolution of the electric field"
   ]
  },
  {
   "cell_type": "code",
   "execution_count": null,
   "metadata": {},
   "outputs": [],
   "source": [
    "import matplotlib.pyplot as plt\n",
    "import matplotlib.colors as colors\n",
    "\n",
    "range = [[0,tmax],[0,sim.box]]\n",
    "\n",
    "\n",
    "plt.imshow( Ex_t, interpolation = 'bilinear', origin = 'lower',\n",
    "          extent = ( range[0][0], range[0][1], range[1][0], range[1][1] ),\n",
    "         norm=colors.SymLogNorm(base=10,linthresh = 0.0001, vmin=-1, vmax=1),\n",
    "          aspect = 'auto', cmap = 'Spectral')\n",
    "\n",
    "plt.colorbar().set_label('$E_1$')\n",
    "plt.xlabel(\"$t$ [$\\omega_n^{-1}$]\")\n",
    "plt.ylabel(\"$x_1$ [$c\\,\\omega_n^{-1}$]\")\n",
    "plt.title(\"Electric field evolution\")\n",
    "\n",
    "plt.show()"
   ]
  },
  {
   "cell_type": "markdown",
   "metadata": {},
   "source": [
    "## Time evolution of the power spectrum"
   ]
  },
  {
   "cell_type": "code",
   "execution_count": null,
   "metadata": {},
   "outputs": [],
   "source": [
    "sp = (np.abs( np.fft.rfft2(Ex_t,axes = (0,) ) )**2)[:sim.nx//4,:]\n",
    "\n",
    "kmax = np.pi / (sim.box / sim.nx)\n",
    "img_range = [[0,tmax],[0,kmax/2]]\n",
    "\n",
    "plt.imshow( sp, origin = 'lower', \n",
    "            extent = ( img_range[0][0], img_range[0][1], img_range[1][0], img_range[1][1] ),\n",
    "            norm=colors.LogNorm(vmin = 1e-6),\n",
    "            aspect = 'auto', cmap = 'jet')\n",
    "\n",
    "plt.colorbar().set_label('$|FFT(E_1)|^2$')\n",
    "\n",
    "plt.xlabel(\"$t$ [$\\omega_n^{-1}$]\")\n",
    "plt.ylabel(\"$k_1$ []\")\n",
    "plt.title(\"Power spectrum evolution\")\n",
    "\n",
    "plt.show()"
   ]
  },
  {
   "cell_type": "markdown",
   "metadata": {},
   "source": [
    "## Electric field energy evolution"
   ]
  },
  {
   "cell_type": "code",
   "execution_count": null,
   "metadata": {},
   "outputs": [],
   "source": [
    "import matplotlib.pyplot as plt\n",
    "\n",
    "Ex_ene = np.sum(Ex_t**2, axis = 0)\n",
    "\n",
    "plt.plot(np.linspace(0, sim.t, num = sim.n),Ex_ene)\n",
    "plt.yscale('log')\n",
    "plt.ylim(ymin=1e-8)\n",
    "plt.grid(True)\n",
    "plt.xlabel(\"$t$ [$1/\\omega_n$]\")\n",
    "plt.ylabel(\"$E_x$ energy [$m_e c^2$]\")\n",
    "plt.title(\"Electric field energy\")\n",
    "plt.plot(np.linspace(0, sim.t, num = sim.n),1e-8*np.exp(np.linspace(0, sim.t, num = sim.n)*(np.sqrt(3)/(2**(4/3)))))\n",
    "plt.show()"
   ]
  },
  {
   "cell_type": "markdown",
   "metadata": {},
   "source": [
    "## Final particle phasespace"
   ]
  },
  {
   "cell_type": "code",
   "execution_count": null,
   "metadata": {},
   "outputs": [],
   "source": [
    "# Simple function to convert particle positions\n",
    "x = lambda s : (s.particles['ix'] + s.particles['x']) * s.dx \n",
    "\n",
    "plt.plot(x(left),  left.particles['ux'],  '.', ms=1,alpha=0.2, label = \"Left\")\n",
    "plt.plot(x(right), right.particles['ux'], '.', ms=1,alpha=0.2, label = \"Right\")\n",
    "plt.xlabel(\"$x_1$ [$c\\,\\omega_n^{-1}$]\")\n",
    "plt.ylabel(\"$u_1$ [$m_e c$]\")\n",
    "plt.title(\"u1-x1 phasespace\\nt = {:g}\".format(sim.t))\n",
    "plt.legend()\n",
    "plt.grid(True)\n",
    "plt.show()"
   ]
  },
  {
   "cell_type": "code",
   "execution_count": null,
   "metadata": {},
   "outputs": [],
   "source": []
  }
 ],
 "metadata": {
  "kernelspec": {
   "display_name": "Python 3",
   "language": "python",
   "name": "python3"
  },
  "language_info": {
   "codemirror_mode": {
    "name": "ipython",
    "version": 3
   },
   "file_extension": ".py",
   "mimetype": "text/x-python",
   "name": "python",
   "nbconvert_exporter": "python",
   "pygments_lexer": "ipython3",
   "version": "3.9.1"
  }
 },
 "nbformat": 4,
 "nbformat_minor": 2
}
