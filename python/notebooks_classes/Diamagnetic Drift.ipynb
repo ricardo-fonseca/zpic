{
 "cells": [
  {
   "cell_type": "markdown",
   "metadata": {},
   "source": [
    "## Diamagnetic Drift\n",
    "2D simulations of Fliud Drifts\n",
    "\n",
    "#### About the phenomenon\n",
    "\n",
    "The Diamagnetic drift or diamagnetic current is a fluid drift in which a current arrises in a magnetized plasma with a given density gradient.\n",
    "\n",
    "If the density gradient is perpendicular to the mangletic field, inside a given fluid element, there will be more particles undergoing gyroscopic motion (see figure below). Due to this difference in the number of particles in each side of the fluid element, there will be more \n",
    "particles moving downwards than upwards giving rise to a fluid drift perpendicular to\n",
    "both the density gradient and B. However, the guiding centres remain stationary.\n",
    "\n",
    "This effect can be understood as a fictional drift as there is no single particle drifting from its gyroscopic center, but a net current on a fluid element. \n",
    "\n",
    "#### About the simulation\n",
    "We will be using the 2D version of **ZPIC**. With this particle in cell code we are required to initialize a full plasma instead of a single particle. However, we may still track single particles and eliminate collective effects by decreasing the plasma density."
   ]
  },
  {
   "cell_type": "code",
   "execution_count": null,
   "metadata": {},
   "outputs": [],
   "source": [
    "import sys  \n",
    "sys.path.insert(0, '../source')\n",
    "\n",
    "# get ZPIC 2D\n",
    "import em2d\n",
    "import numpy as np\n",
    "\n",
    "# SIMULATION PARAMETERS\n",
    "#Time step\n",
    "dt = 0.0055\n",
    "#Simulation time\n",
    "tmax = 22.8\n",
    "#Number of cells\n",
    "nx  = [192,192]\n",
    "#Simulation box size\n",
    "box = [1.5,1.5]\n",
    "\n",
    "# PLASMA SPECIES PARAMETERS\n",
    "#Particles per cell\n",
    "ppc = [4,4]\n",
    "#density gradient\n",
    "def custom_nx(x):\n",
    "    return 1+2*x if (x>0.25 and x<1.25) else 0.0\n",
    "def custom_ny(x):\n",
    "    return 1 if (x>0.25 and x<1.25) else  0.0\n",
    "dens = em2d.Density( type = \"custom\", custom_x = custom_nx,custom_y=custom_ny )\n",
    "# Set up a super low density\n",
    "dens.n=1e-6\n",
    "#create the species with a thermal velocity distribution to kick of the motion\n",
    "electrons = em2d.Species( \"electrons\", -1, ppc,\n",
    "                           density = dens,ufl=[0,0,0],uth=[0.05,0.05,0])\n",
    "\n",
    "# INITIALIZE SIMULATION OBJECT\n",
    "sim = em2d.Simulation( nx, box, dt, species = electrons )\n",
    "\n",
    "\n",
    "#Set the sorting period to 0 in order to track the particle's trajectories \n",
    "#(this must be done after initilializng the simulation object)\n",
    "electrons.n_sort=0\n",
    "\n",
    "# EXTERNAL FIELDS\n",
    "B=[0,0,1]\n",
    "ext = em2d.ExternalField(B_type = 'uniform', B_0 = B,E_type = 'none')\n",
    "sim.emf.set_ext_fld( ext )"
   ]
  },
  {
   "cell_type": "markdown",
   "metadata": {},
   "source": [
    "Here you can check the charge density of the plasma species you've just created"
   ]
  },
  {
   "cell_type": "code",
   "execution_count": null,
   "metadata": {},
   "outputs": [],
   "source": [
    "import matplotlib.pyplot as plt\n",
    "plt.xlabel(\"$x_1$\")\n",
    "plt.ylabel(\"$x_2$\")\n",
    "\n",
    "plt.imshow(np.abs(electrons.charge()), extent = ( 0,sim.box[0], 0,sim.box[1]),\n",
    "          aspect = 'auto', cmap = 'inferno' )\n",
    "plt.colorbar().set_label('Density')\n",
    "plt.title(\"Absolute charge density\\nt = {:g}\".format(sim.t))\n",
    "plt.show()"
   ]
  },
  {
   "cell_type": "markdown",
   "metadata": {},
   "source": [
    "**Q:** Given this density distribution, in which direction will the drift be oriented?\n",
    "\n",
    "***\n",
    "*anwser*\n",
    "___"
   ]
  },
  {
   "cell_type": "markdown",
   "metadata": {},
   "source": [
    "Now running the simulation for a bunch of periods"
   ]
  },
  {
   "cell_type": "code",
   "execution_count": null,
   "metadata": {},
   "outputs": [],
   "source": [
    "#objects to store the avg current in the x (=x1) and y (=x2) directions\n",
    "currnt_x=sim.current.Jx.copy()\n",
    "currnt_y=sim.current.Jy.copy()\n",
    "\n",
    "import random\n",
    "p_idx=random.sample(range(len(electrons.particles)),64)\n",
    "ele_part_rep=[]\n",
    "\n",
    "while sim.t < 4*np.pi:\n",
    "    print('n = {:d}, t = {:g}'.format(sim.n,sim.t), end = '\\r')\n",
    "    sim.iter()\n",
    "    \n",
    "    currnt_x=currnt_x+sim.current.Jx.copy()\n",
    "    currnt_y=currnt_y+sim.current.Jy.copy()\n",
    "    if sim.n%10 ==0:\n",
    "        ele_part_rep.append(electrons.particles[p_idx].copy())"
   ]
  },
  {
   "cell_type": "markdown",
   "metadata": {},
   "source": [
    "### Checking the results\n",
    "\n",
    "Here you can check the resulting time averaged currents.\n",
    "\n",
    "If evreytihng went as expected there should be a net current in the direction perpendicular to $B$ and $\\nabla n$.\n",
    "\n"
   ]
  },
  {
   "cell_type": "code",
   "execution_count": null,
   "metadata": {},
   "outputs": [],
   "source": [
    "import matplotlib.pyplot as plt\n",
    "import matplotlib as mpl\n",
    "import matplotlib.gridspec as gridspec\n",
    "import random \n",
    "#Set up the plot\n",
    "fig, axes = plt.subplots(nrows=1, ncols=2, figsize=(16, 5))\n",
    "plt.rcParams.update({'font.size': 18})\n",
    "\n",
    "im=axes[0].imshow(currnt_x/sim.n, interpolation = 'bilinear', origin = 'lower',\n",
    "          extent = ( 0, sim.box[0], 0, sim.box[1] ),\n",
    "           vmin=-5e-8,vmax=5e-8,\n",
    "          aspect = 'auto', cmap = 'seismic' )\n",
    "cbar=plt.colorbar(im,ax=axes[0])\n",
    "cbar.set_label(r\"$\\langle J_x \\rangle_t\\;[m_ec\\omega_p/e]$\")\n",
    "axes[0].set_ylabel(\"$y\\,[c/\\omega_p]$\")\n",
    "axes[0].grid(True,ls=\"--\",alpha=0.2)\n",
    "axes[0].set_xlabel(\"$x\\,[c/\\omega_p]$\")\n",
    "axes[0].set_aspect('equal')\n",
    "axes[0].set_title(\"Avg. $J_x$ current\")\n",
    "\n",
    "im=axes[1].imshow(currnt_y/sim.n, interpolation = 'bilinear', origin = 'lower',\n",
    "          extent = ( 0, sim.box[0], 0, sim.box[1] ),\n",
    "           vmin=-5e-8,vmax=5e-8,\n",
    "          aspect = 'auto', cmap = 'seismic' )\n",
    "cbar=plt.colorbar(im)\n",
    "cbar.set_label(r\"$\\langle J_y \\rangle_t\\;[m_ec\\omega_p/e]$\")\n",
    "##setup labels, grids, and others\n",
    "axes[1].grid(True,ls=\"--\",alpha=0.2)\n",
    "axes[1].set_xlabel(\"$x\\,[c/\\omega_p]$\")\n",
    "axes[1].set_aspect('equal')\n",
    "axes[1].set_ylabel(\"$y\\,[c/\\omega_p]$\")\n",
    "axes[1].set_title(\"Avg. $J_y$ current\")\n",
    "plt.show()"
   ]
  },
  {
   "cell_type": "markdown",
   "metadata": {},
   "source": [
    "**Q:** Aside from this current there are also accumulations of current near the edges of the plasma, this is also a manifestation of the diamagnetic drift. Explain why.\n",
    "\n",
    "***\n",
    "*anwser*\n",
    "___"
   ]
  },
  {
   "cell_type": "markdown",
   "metadata": {},
   "source": [
    "It's also useful to compare the results with the theoretical expectations.\n",
    "\n",
    "The diamagnetic current can be calculated as \n",
    "\n",
    "$J_{diag}=KT_e\\frac{\\mathbf{B}\\times\\mathbf{\\nabla} n}{B^2}$\n",
    "\n",
    "Where $KTe$ is calculated with a thermal velocity distribution in all 3 directions.\n",
    "\n",
    "$3KT_e=u_{th,x}^2+u_{th,y}^2+u_{th,z}^2$"
   ]
  },
  {
   "cell_type": "code",
   "execution_count": null,
   "metadata": {},
   "outputs": [],
   "source": [
    "import matplotlib.pyplot as plt\n",
    "import matplotlib as mpl\n",
    "import matplotlib.gridspec as gridspec\n",
    "import random \n",
    "#Set up the plot\n",
    "fig=plt.figure(figsize=(8, 6), dpi=120)\n",
    "plt.rcParams.update({'font.size': 18})\n",
    "ax=plt.gca()\n",
    "ax.grid(True,ls=\"--\",alpha=0.2)\n",
    "\n",
    "\n",
    "#Y current\n",
    "ax.plot(np.linspace(0,box[0],nx[0]),np.sum(currnt_y/sim.n,axis=0)/len(currnt_y[0]),label=r\"$\\langle J_y \\rangle_{t,y}$\")\n",
    "ax.plot(np.linspace(0,box[0],nx[0]),np.sum(currnt_y/sim.n,axis=0)/len(currnt_y[0]),'.',c=\"C0\")\n",
    "\n",
    "#x current\n",
    "ax.plot(np.linspace(0,box[0],nx[0]),np.sum(currnt_x/sim.n,axis=1)/len(currnt_y[0]),c=\"C3\",label=r\"$\\langle J_x \\rangle_{t,x}$\")\n",
    "ax.plot(np.linspace(0,box[0],nx[0]),np.sum(currnt_x/sim.n,axis=1)/len(currnt_y[0]),'.',c=\"C3\")\n",
    "\n",
    "#theory\n",
    "ax.axhline(2e-6*(0.05*0.05+0.05*0.05)/3)\n",
    "\n",
    "\n",
    "ax.set_xlim(0.5,1.0)\n",
    "ax.set_ylim(-2e-9,8e-9)\n",
    "ax.text(0.51,2.5e-9,r\"$KT_e\\frac{\\mathbf{B}\\times\\mathbf{\\nabla} n}{B^2}$\",color=\"C0\")\n",
    "\n",
    "ax.legend()"
   ]
  },
  {
   "cell_type": "markdown",
   "metadata": {},
   "source": [
    "The last visualization serves the purpose of convincing you that the diamagntic drift current results form the plasma density gradient and not from single particle drifts.\n",
    "\n",
    "By looking at the tracjectories of some of the plasma's particles we see that they only perform the cyclotron motion."
   ]
  },
  {
   "cell_type": "code",
   "execution_count": null,
   "metadata": {},
   "outputs": [],
   "source": [
    "import matplotlib.pyplot as plt\n",
    "\n",
    "fig, axes = plt.subplots(nrows=1, ncols=3, figsize=(16, 5))\n",
    "\n",
    "a=np.transpose(ele_part_rep)\n",
    "for particle in a:\n",
    "    e_posx_t=[(i['ix']+i['x'])*box[0]/nx[0] for i in particle]\n",
    "    e_posy_t=[(i['iy']+i['y'])*box[1]/nx[1] for i in particle]\n",
    "    axes[0].plot(e_posx_t[:80],e_posy_t[:80],c=\"k\",alpha=0.4,lw=2)\n",
    "    axes[1].plot(e_posx_t[:120],e_posy_t[:120],c=\"k\",alpha=0.4,lw=2)\n",
    "    axes[2].plot(e_posx_t[:200],e_posy_t[:200],c=\"k\",alpha=0.4,lw=2)\n",
    "\n",
    "\n",
    "axes[0].set_title(\"t = {:g}\".format(dt*600))\n",
    "\n",
    "axes[1].set_yticklabels([])\n",
    "axes[1].set_title(\"t = {:g}\".format(dt*1200))\n",
    "\n",
    "axes[2].set_yticklabels([])\n",
    "axes[2].set_title(\"t = {:g}\".format(dt*2000))\n",
    "\n",
    "\n",
    "for ax in axes:\n",
    "    ax.set_xlabel(\"x1\")\n",
    "    ax.set_aspect('equal' ,'datalim')\n",
    "    ax.grid()\n",
    "    \n",
    "axes[0].set_ylabel(\"x2\")\n",
    "plt.show()"
   ]
  },
  {
   "cell_type": "code",
   "execution_count": null,
   "metadata": {},
   "outputs": [],
   "source": []
  }
 ],
 "metadata": {
  "kernelspec": {
   "display_name": "Python 3",
   "language": "python",
   "name": "python3"
  },
  "language_info": {
   "codemirror_mode": {
    "name": "ipython",
    "version": 3
   },
   "file_extension": ".py",
   "mimetype": "text/x-python",
   "name": "python",
   "nbconvert_exporter": "python",
   "pygments_lexer": "ipython3",
   "version": "3.9.1"
  }
 },
 "nbformat": 4,
 "nbformat_minor": 2
}
