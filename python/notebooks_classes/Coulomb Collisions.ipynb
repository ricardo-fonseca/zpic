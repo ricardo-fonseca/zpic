{
 "cells": [
  {
   "cell_type": "markdown",
   "metadata": {},
   "source": [
    "## Coulomb Collisions\n",
    "2D simulations of particle collisions\n",
    "***\n",
    "\n",
    "We will be using the 2D version of **ZPIC**. With this particle in cell code we are required to initialize a full plasma instead of a single particle. However, we may still track single particles and eliminate collective effects by decreasing the plasma density.\n",
    "\n",
    "\n"
   ]
  },
  {
   "cell_type": "markdown",
   "metadata": {},
   "source": [
    "#### About the phenomenon\n",
    "\n",
    "When the plasma is composed of ions and electrons alone, all collisions are Coulomb collisions between charged particles. \n",
    "\n",
    "Here we explore this interaction by analysing the Rutherford cross section. Rutherford scattering is the elastic scattering of charged particles by the Coulomb interaction.\n",
    "The equations of motion describing two particles interacting under a central force can be decoupled into the center of mass and the motion of the particles relative to one another. For the case of light alpha particles scattering off heavy nuclei, as in the experiment performed by Rutherford, the reduced mass is essentially the mass of the alpha particle and the nucleus off of which it scatters is essentially stationary in the lab frame.\n",
    "\n",
    "The deflection angle depends on the impact parameter (the transversal distance between teh incoming particle and the satationary one).\n",
    "\n",
    "For a uniform distribution of incoming particles the differential cross section of the interaction will be given by\n",
    "\n",
    "${\\frac {d\\sigma }{d\\Omega }}=\\left({\\frac {Z_{1}Z_{2}\\alpha (\\hbar c)}{4E_{\\mathrm {K} }\\sin ^{2}{\\frac {\\Theta }{2}}}}\\right)^{2}$"
   ]
  },
  {
   "cell_type": "markdown",
   "metadata": {},
   "source": [
    "#### About the simulation\n",
    "\n",
    "In order to simulate this phenomenon, we make an electron species collide with the field from a fixed charge.\n",
    "\n",
    "The fixed charge is emulated by an external coulomb field.\n",
    "\n",
    "The differential cross section can be computed by finding the deflection angle at the end of the simulation given by $\\theta=\\arctan{u_y/u_x}$ for each particle."
   ]
  },
  {
   "cell_type": "code",
   "execution_count": null,
   "metadata": {},
   "outputs": [],
   "source": [
    "import sys  \n",
    "sys.path.insert(0, '../source')\n",
    "# get ZPIC 2D\n",
    "import em2d\n",
    "import numpy as np\n",
    "\n",
    "# Simulation time\n",
    "tmax = 22.8\n",
    "\n",
    "# Number of cells\n",
    "nx  = [256,256-32]\n",
    "\n",
    "# Simulation box size\n",
    "box = [8,7]\n",
    "\n",
    "# Time step\n",
    "def courant(dx,dy):\n",
    "    return 1/np.sqrt(1/dx**2+1/dy**2)\n",
    "dt = 0.999*courant(box[0]/nx[0],box[1]/nx[1])\n",
    "\n",
    "# Particles per cell\n",
    "ppc = [2,2]\n",
    "\n",
    "def custom_nx(x):\n",
    "    return 1 if (x>0.1 and x<0.14) else 0.0\n",
    "\n",
    "def custom_ny(x):\n",
    "    return 1 if (x>0.1 and  x<6.4  ) else  0.0\n",
    "\n",
    "dens = em2d.Density( type = \"custom\", custom_x = custom_nx,custom_y=custom_ny )\n",
    "dens.n=1e-8\n",
    "#create the species give it a small velocity to kick of the motion\n",
    "electrons = em2d.Species( \"electrons\", -1, ppc,\n",
    "                           density = dens,ufl=[0.1,0,0])\n",
    "sim = em2d.Simulation( nx, box, dt, species = electrons )\n",
    "\n",
    "\n",
    "#set n_sort to 0 to\n",
    "electrons.n_sort=0\n",
    "\n",
    "\n",
    "# Coulomb field for the fixed charge\n",
    "radi=(2*np.sqrt(2)*box[0]/nx[0])**2\n",
    "def col_fld(ix,dx,iy,dy):\n",
    "    x0 =6\n",
    "    y0 = 0.0915625\n",
    "    \n",
    "    x = (ix+0.5)*dx       - x0;\n",
    "    y = (iy)*dy - y0;\n",
    "\n",
    "    r2 = x*x+y*y\n",
    "    if r2<radi:\n",
    "        r2=radi\n",
    "    ex = x/r2*1.5e-3;\n",
    "\n",
    "    x = (ix)*dx - x0;\n",
    "    y = (iy+0.5)*dy       - y0;\n",
    "    r2 = x*x+y*y \n",
    "    if r2<radi:\n",
    "        r2=radi\n",
    "    ey = y/r2*1.5e-3;\n",
    "    return [-ex,-ey,0] \n",
    "\n",
    "ext = em2d.ExternalField(E_type = 'custom', E_custom = col_fld )\n",
    "\n",
    "sim.emf.set_ext_fld( ext )\n"
   ]
  },
  {
   "cell_type": "markdown",
   "metadata": {},
   "source": [
    "This is the the scattering electric field "
   ]
  },
  {
   "cell_type": "code",
   "execution_count": null,
   "metadata": {},
   "outputs": [],
   "source": [
    "import matplotlib.pyplot as plt\n",
    "import matplotlib.colors as colors\n",
    "\n",
    "plt.xlabel(\"$x_1$\")\n",
    "plt.ylabel(\"$x_2$\")\n",
    "\n",
    "plt.imshow( np.sqrt(sim.emf.Ex_part**2+sim.emf.Ey_part**2), interpolation = 'bilinear', origin = 'lower',\n",
    "          extent = ( 0,sim.box[0],0,sim.box[1] ),\n",
    "          aspect = 'equal', cmap = 'inferno' )\n",
    "plt.colorbar().set_label('E field')\n",
    "\n",
    "plt.xlim(4,8)\n",
    "#plt.ylim(5,9)"
   ]
  },
  {
   "cell_type": "markdown",
   "metadata": {},
   "source": [
    "Now running the simulation"
   ]
  },
  {
   "cell_type": "code",
   "execution_count": null,
   "metadata": {},
   "outputs": [],
   "source": [
    "#arays to store the particles trajectories\n",
    "ele_part_rep =[]\n",
    "\n",
    "while sim.t < 80:\n",
    "    print('n = {:d}, t = {:g}'.format(sim.n,sim.t), end = '\\r')\n",
    "    if sim.n%10==0:\n",
    "        ele_part_rep.append(electrons.particles[:].copy())\n",
    "    sim.iter()"
   ]
  },
  {
   "cell_type": "markdown",
   "metadata": {},
   "source": [
    "### Checking the results"
   ]
  },
  {
   "cell_type": "markdown",
   "metadata": {},
   "source": [
    "Here you can check the trajectories of a randomly selected set of particles"
   ]
  },
  {
   "cell_type": "code",
   "execution_count": null,
   "metadata": {},
   "outputs": [],
   "source": [
    "import random\n",
    "import matplotlib.pyplot as plt\n",
    "import matplotlib as mpl\n",
    "\n",
    "#select a random subset of the particles in the simulation\n",
    "p_idx=random.sample(range(len(electrons.particles)),len(electrons.particles)//2)\n",
    "a=np.transpose(ele_part_rep)\n",
    "\n",
    "#Set up the plot\n",
    "fig=plt.figure(figsize=(8, 6), dpi=120)\n",
    "plt.rcParams.update({'font.size': 18})\n",
    "ax=plt.gca()\n",
    "\n",
    "#plot trajectories\n",
    "for particle  in a[p_idx]:\n",
    "#for particle  in a:\n",
    "    e_posx_t=[(i['ix']+i['x'])*box[0]/nx[0] for i in particle]\n",
    "    e_posy_t=[(i['iy']+i['y'])*box[1]/nx[1] for i in particle]\n",
    "    ax.plot(e_posx_t,e_posy_t,c=\"k\",alpha=0.1,lw=0.4)\n",
    "\n",
    "    \n",
    "e_posx_t=[(i['ix']+i['x'])*box[0]/nx[0] for i in a[1]]\n",
    "e_posy_t=[(i['iy']+i['y'])*box[1]/nx[1] for i in a[1]]\n",
    "ax.plot(e_posx_t,e_posy_t,c=\"g\",lw=0.5,label=\"backscattered particle\")\n",
    "\n",
    "e_posx_t=[(i['ix']+i['x'])*box[0]/nx[0] for i in a[300]]\n",
    "e_posy_t=[(i['iy']+i['y'])*box[1]/nx[1] for i in a[300]]\n",
    "ax.plot(e_posx_t,e_posy_t,c=\"r\",lw=0.5,label=\"deflected particle\")\n",
    "\n",
    "\n",
    "ax.scatter(6,0.1)\n",
    "ax.set_ylim([0,8])\n",
    "ax.legend(fontsize=12,loc=1)\n",
    "plt.show()"
   ]
  },
  {
   "cell_type": "markdown",
   "metadata": {},
   "source": [
    "Below you'll find the histogram of the final deflection angles together with the theopretical Rutherford cross section\n",
    "\n",
    "Why are there no  particles with deflection angles near 0?"
   ]
  },
  {
   "cell_type": "code",
   "execution_count": null,
   "metadata": {},
   "outputs": [],
   "source": [
    "init_iter=ele_part_rep[0]\n",
    "ypos_0=np.abs(np.array([(i['iy']+i['y'])*box[1]/nx[1] for i in init_iter])-0.4915625)"
   ]
  },
  {
   "cell_type": "code",
   "execution_count": null,
   "metadata": {},
   "outputs": [],
   "source": [
    "plt.hist( np.arctan2(electrons.particles[\"uy\"],electrons.particles[\"ux\"]), bins = 256,weights=ypos_0, label ='particles, wieghed' )\n",
    "angles=np.linspace(-np.pi,np.pi,512)\n",
    "plt.plot(angles,np.abs(9e-3/np.sin(angles/2)**4),label=\"3D \")\n",
    "plt.ylim([0,200])\n",
    "plt.xlim([0,1])\n",
    "plt.legend()"
   ]
  },
  {
   "cell_type": "code",
   "execution_count": null,
   "metadata": {},
   "outputs": [],
   "source": []
  }
 ],
 "metadata": {
  "kernelspec": {
   "display_name": "Python 3",
   "language": "python",
   "name": "python3"
  },
  "language_info": {
   "codemirror_mode": {
    "name": "ipython",
    "version": 3
   },
   "file_extension": ".py",
   "mimetype": "text/x-python",
   "name": "python",
   "nbconvert_exporter": "python",
   "pygments_lexer": "ipython3",
   "version": "3.9.1"
  }
 },
 "nbformat": 4,
 "nbformat_minor": 2
}
