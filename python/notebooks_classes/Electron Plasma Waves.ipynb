{
 "cells": [
  {
   "cell_type": "markdown",
   "metadata": {},
   "source": [
    "\n",
    "# Electron Plasma Waves"
   ]
  },
  {
   "cell_type": "markdown",
   "metadata": {},
   "source": [
    "Created by Rui Calado and Jorge Vieira, 2018\n",
    "\n",
    "In this notebook, we are going to study the dispersion relation for electron plasma waves."
   ]
  },
  {
   "cell_type": "markdown",
   "metadata": {},
   "source": [
    "## Theory"
   ]
  },
  {
   "cell_type": "markdown",
   "metadata": {},
   "source": [
    "Electron plasma waves are longitudinal waves that may propagate in unmagnetized plasmas. To derive the dispersion relation for such waves let us start by considering the following setup:\n",
    "* $\\nabla\\times\\mathbf{E}=0$ (Longitudinal waves)\n",
    "* $T_i=T_e=0$ (Cold plasma)\n",
    "* $\\mathbf{B}=0$ (Unmagnetized)\n",
    "\n",
    "We start by writing the continuity and momentum equations for the electron and ion species:\n",
    "\n",
    "$$\\large \\left\\{\\begin{array}{lcr}\n",
    "        \\frac{\\partial n_{e,i}}{\\partial t}+\\nabla\\cdot(n_{e,i}\\mathbf{v}_{e,i})=0 \\\\\n",
    "        \\frac{\\partial \\mathbf{v}_{e,i}}{\\partial t}=\\mp \\frac{e}{m_{e,i}}\\mathbf{E}\\\\\n",
    "        \\end{array}\\right. .\n",
    "$$\n",
    "\n",
    "Then we consider Poisson's equation:\n",
    "\n",
    "$$\\epsilon_0\\nabla\\cdot\\mathbf{E}=e(n_i-n_e).$$\n",
    "\n",
    "Applying a time derivative twice,\n",
    "\n",
    "$$\\epsilon_0\\nabla\\cdot\\left(\\frac{\\partial^2 \\mathbf{E}}{\\partial t^2}\\right)=e\\left(\\frac{\\partial^2n_i}{\\partial t^2}-\\frac{\\partial^2n_e}{\\partial t^2}\\right).$$\n",
    "\n",
    "Using the continuity and momentum equations we get:\n",
    "\n",
    "$$\\frac{\\partial^2 \\mathbf{E}}{\\partial t^2}-\\frac{e^2n_0}{\\epsilon_0}\\left(\\frac{1}{m_i}+\\frac{1}{m_e}\\right)\\mathbf{E}=0.$$\n",
    "\n",
    "This is the equation for a harmonic oscillator. Neglecting the $1/m_i$ term since $m_e\\ll m_i$, our oscillation frequency is the electron plasma frequency:\n",
    "\n",
    "$$\\omega=\\frac{e^2n_0}{\\epsilon_0 m_e}\\equiv \\omega_{p}.$$"
   ]
  },
  {
   "cell_type": "markdown",
   "metadata": {},
   "source": [
    "### Warm plasma"
   ]
  },
  {
   "cell_type": "markdown",
   "metadata": {},
   "source": [
    "Now, what happens if we consider a warm plasma instead? Neglecting ion motion, the first step is to add a pressure term to the electron momentum equation:\n",
    "\n",
    "$$\\frac{\\partial \\mathbf{v}_{e}}{\\partial t}=- \\frac{e}{m_{e}}\\mathbf{E}-\\frac{\\gamma k_BT_e}{m_en_0}\\nabla n_1.$$\n",
    "\n",
    "We also note that Poisson's equation now takes the form:\n",
    "\n",
    "$$\\nabla\\cdot\\mathbf{E}=-\\frac{e}{\\epsilon_0}n_1.$$\n",
    "\n",
    "Taking the divergence of the momentum equation, we get:\n",
    "\n",
    "$$\\nabla\\cdot\\left( \\frac{\\partial \\mathbf{v}}{\\partial t} \\right)=-\\frac{e}{m_e}\\nabla\\cdot\\mathbf{E}-\\frac{\\gamma kT_e}{m_en_0}\\nabla\\cdot  (\\nabla n_e).$$\n",
    "\n",
    "Using the unchanged continuity equation and Poisson's equation:\n",
    "\n",
    "$$\\frac{\\partial^2n_1}{\\partial t^2}+\\omega_{p}^2n_1-\\frac{\\gamma k_BT_e}{m_e}\\nabla\\cdot(\\nabla n_1)=0.$$\n",
    "\n",
    "Considering the high frequency regime, there will be no heat losses in our time scale, and so we will take the adiabatic coefficient $\\gamma=3$ for 1D longitudinal oscillations. Additionally, we use the definition $v_{th}^2=k_BT_e/m_e$ to write:\n",
    "\n",
    "$$\\frac{\\partial^2n_1}{\\partial t^2}+\\omega_{p}^2n_1-3v_{th}^2\\nabla\\cdot(\\nabla n_1)=0.$$\n",
    "\n",
    "The final step consists of considering sinusoidal waves such that $n_1=\\text{n}_1\\exp^{i(\\mathbf{k}\\cdot\\mathbf{r}-\\omega t)}$ and then Fourier analyzing the equation $\\left(\\nabla=i\\mathbf{k},\\ \\frac{\\partial}{\\partial t}=-i\\omega \\right)$, which results in the dispersion relation:\n",
    "\n",
    "$$\\omega^2=\\omega_{p}^2+3v_{th}^2k^2.$$"
   ]
  },
  {
   "cell_type": "markdown",
   "metadata": {},
   "source": [
    "## Simulations with ZPIC"
   ]
  },
  {
   "cell_type": "code",
   "execution_count": null,
   "metadata": {},
   "outputs": [],
   "source": [
    "import sys  \n",
    "sys.path.insert(0, '../source')\n",
    "import em1ds as zpic\n",
    "\n",
    "#v_the = 0.001\n",
    "v_the = 0.03\n",
    "#v_the = 0.20\n",
    "\n",
    "electrons = zpic.Species( \"electrons\", -1.0, ppc = 64, uth=[v_the,v_the,v_the])\n",
    "sim = zpic.Simulation( nx = 500, box = 50.0, dt = 0.0999/2, species = electrons )\n",
    "\n",
    "sim.filter_set(\"sharp\", ck = 0.99)\n",
    "#sim.filter_set(\"gaussian\", ck = 50.0)"
   ]
  },
  {
   "cell_type": "markdown",
   "metadata": {},
   "source": [
    "We run the simulation up to a fixed number of iterations, controlled by the variable `niter`, storing the value of the EM field $E_z$ at every timestep so we can analyze them later:"
   ]
  },
  {
   "cell_type": "code",
   "execution_count": null,
   "metadata": {},
   "outputs": [],
   "source": [
    "import numpy as np\n",
    "\n",
    "niter = 4000\n",
    "\n",
    "Ex_t = np.zeros((niter,sim.nx))\n",
    "Ez_t = np.zeros((niter,sim.nx))\n",
    "\n",
    "tmax = niter * sim.dt\n",
    "\n",
    "print(\"\\nRunning simulation up to t = {:g} ...\".format(tmax))\n",
    "while sim.t <= tmax:\n",
    "    print('n = {:d}, t = {:g}'.format(sim.n,sim.t), end = '\\r')\n",
    "    Ex_t[sim.n,:] = sim.emf.Ex\n",
    "    Ez_t[sim.n,:] = sim.emf.Ez\n",
    "    sim.iter()\n",
    "\n",
    "print(\"\\nDone.\")"
   ]
  },
  {
   "cell_type": "markdown",
   "metadata": {},
   "source": [
    "## Electrostatic / Electromagnetic Waves\n",
    "\n",
    "As discussed above, the simulation was initialized with a broad spectrum of waves through the thermal noise of the plasma. We can see the noisy fields in the plot below:"
   ]
  },
  {
   "cell_type": "code",
   "execution_count": null,
   "metadata": {},
   "outputs": [],
   "source": [
    "import matplotlib.pyplot as plt\n",
    "\n",
    "iter = sim.n//2\n",
    "plt.plot(np.linspace(0, sim.box, num = sim.nx),Ex_t[iter,:], label = \"$E_x$\")\n",
    "plt.plot(np.linspace(0, sim.box, num = sim.nx),Ez_t[iter,:], label = \"$E_z$\")\n",
    "plt.grid(True)\n",
    "\n",
    "plt.xlabel(\"$x_1$ [$c/\\omega_n$]\")\n",
    "plt.ylabel(\"$E$ field []\")\n",
    "plt.title(\"$E_x$, $E_z$, t = {:g}\".format( iter * sim.dt))\n",
    "plt.legend()\n",
    "plt.show()"
   ]
  },
  {
   "cell_type": "markdown",
   "metadata": {},
   "source": [
    "## Electrostatic Plasma Waves\n",
    "To analyze the dispersion relation of the electrostatic plasma waves we use a 2D (Fast) Fourier transform of $E_x(x,t)$ field values that we stored during the simulation. The plot below shows the obtained power spectrum alongside the theoretical prediction.\n",
    "\n",
    "Since the dataset is not periodic along $t$ we apply a windowing technique (Hanning) to the dataset to lower the background spectrum, and make the dispersion relation more visible."
   ]
  },
  {
   "cell_type": "code",
   "execution_count": null,
   "metadata": {},
   "outputs": [],
   "source": [
    "import matplotlib.pyplot as plt\n",
    "import matplotlib.colors as colors\n",
    "\n",
    "# (omega,k) power spectrum\n",
    "\n",
    "win = np.hanning(niter)\n",
    "for i in range(sim.nx):\n",
    "    Ex_t[:,i] *= win\n",
    "\n",
    "sp = np.abs(np.fft.fft2(Ex_t))**2\n",
    "sp = np.fft.fftshift( sp )\n",
    "\n",
    "k_max = np.pi / sim.dx\n",
    "omega_max = np.pi / sim.dt\n",
    "\n",
    "plt.imshow( sp, origin = 'lower', norm=colors.LogNorm(vmin = 1.0),\n",
    "           extent = ( -k_max, k_max, -omega_max, omega_max ),\n",
    "           aspect = 'auto', cmap = 'gray')\n",
    "\n",
    "k = np.linspace(-k_max, k_max, num = 512)\n",
    "w=np.sqrt(1 + 3 * v_the**2 * k**2)\n",
    "plt.plot( k, w, label = \"Electron Plasma Wave\", color = 'r',ls = '-.' )\n",
    "\n",
    "\n",
    "plt.ylim(0,2)\n",
    "plt.xlim(0,k_max)\n",
    "plt.xlabel(\"$k$ [$\\omega_n/c$]\")\n",
    "plt.ylabel(\"$\\omega$ [$\\omega_n$]\")\n",
    "plt.title(\"Wave dispersion relation\")\n",
    "\n",
    "plt.legend()\n",
    "\n",
    "plt.show()\n"
   ]
  },
  {
   "cell_type": "markdown",
   "metadata": {},
   "source": [
    "## Electromagnetic Plasma Waves\n",
    "To analyze the dispersion relation of the electrostatic plasma waves we use a 2D (Fast) Fourier transform of $E_z(x,t)$ field values that we stored during the simulation. The plot below shows the obtained power spectrum alongside the theoretical prediction.\n",
    "\n",
    "Since the dataset is not periodic along $t$ we apply a windowing technique (Hanning) to the dataset to lower the background spectrum, and make the dispersion relation more visible."
   ]
  },
  {
   "cell_type": "code",
   "execution_count": null,
   "metadata": {},
   "outputs": [],
   "source": [
    "import matplotlib.pyplot as plt\n",
    "import matplotlib.colors as colors\n",
    "\n",
    "# (omega,k) power spectrum\n",
    "\n",
    "win = np.hanning(niter)\n",
    "for i in range(sim.nx):\n",
    "    Ez_t[:,i] *= win\n",
    "\n",
    "sp = np.abs(np.fft.fft2(Ez_t))**2\n",
    "sp = np.fft.fftshift( sp )\n",
    "\n",
    "k_max = np.pi / sim.dx\n",
    "omega_max = np.pi / sim.dt\n",
    "\n",
    "plt.imshow( sp, origin = 'lower', norm=colors.LogNorm(vmin = 1e-5, vmax = 0.01),\n",
    "           extent = ( -k_max, k_max, -omega_max, omega_max ),\n",
    "           aspect = 'auto', cmap = 'gray')\n",
    "\n",
    "k = np.linspace(-k_max, k_max, num = 512)\n",
    "w=np.sqrt(1 + k**2)\n",
    "plt.plot( k, w, label = \"$\\omega^2 = \\omega_p^2 + k^2 c^2$\", color = 'r', ls = '-.' )\n",
    "\n",
    "\n",
    "plt.ylim(0,k_max)\n",
    "plt.xlim(0,k_max)\n",
    "plt.xlabel(\"$k$ [$\\omega_n/c$]\")\n",
    "plt.ylabel(\"$\\omega$ [$\\omega_n$]\")\n",
    "plt.title(\"EM-wave dispersion relation\")\n",
    "\n",
    "plt.legend()\n",
    "\n",
    "plt.show()"
   ]
  },
  {
   "cell_type": "code",
   "execution_count": null,
   "metadata": {},
   "outputs": [],
   "source": []
  }
 ],
 "metadata": {
  "kernelspec": {
   "display_name": "Python 3",
   "language": "python",
   "name": "python3"
  },
  "language_info": {
   "codemirror_mode": {
    "name": "ipython",
    "version": 3
   },
   "file_extension": ".py",
   "mimetype": "text/x-python",
   "name": "python",
   "nbconvert_exporter": "python",
   "pygments_lexer": "ipython3",
   "version": "3.9.1"
  }
 },
 "nbformat": 4,
 "nbformat_minor": 2
}
